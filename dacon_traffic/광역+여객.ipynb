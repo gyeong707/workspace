{
 "cells": [
  {
   "cell_type": "markdown",
   "metadata": {},
   "source": [
    "# [한국철도공사] 광역+여객 일별_역별_시간대별 실적\n",
    "\n",
    "## 1. Data set description\n",
    "여객(train), 광역(subway) 두 개의 형태로 나누어져 있으며,   \n",
    "여객은 KTX 고속열차, 새마을호, 무궁화호 등 간선여객열차의 데이터, 광역은 전철 데이터이다.  \n",
    "각각 2019.01.01 ~ 2019.05.31 / 2020.01.01 ~ 2020.05.31와 같은 두 개의 기간별 데이터로 구성  (따라서 전체 데이터셋은 4개)\n",
    "1. KR_TB_TR_STN_DAY_CON~ : train, 기차역 중심 데이터\n",
    "2. KB_TB_SBWY_STN_HR_CON~ : subway, 전철 중심 데이터\n"
   ]
  },
  {
   "cell_type": "markdown",
   "metadata": {},
   "source": [
    "### Pakages import"
   ]
  },
  {
   "cell_type": "code",
   "execution_count": 2,
   "metadata": {},
   "outputs": [],
   "source": [
    "import numpy as np\n",
    "import pandas as pd\n",
    "import matplotlib.pyplot as plt\n",
    "import seaborn as sns\n",
    "\n",
    "%matplotlib inline\n",
    "plt.style.use('seaborn')"
   ]
  },
  {
   "cell_type": "code",
   "execution_count": 3,
   "metadata": {},
   "outputs": [],
   "source": [
    "pd.set_option('max_columns', 24,'max_rows', 20) \n",
    "# pd.set_option('display.max_rows', None)\n",
    "\n",
    "plt.style.use('seaborn')\n",
    "plt.rc('font', family='Malgun Gothic')\n",
    "plt.rc('axes', unicode_minus=False)"
   ]
  },
  {
   "cell_type": "code",
   "execution_count": 4,
   "metadata": {},
   "outputs": [],
   "source": [
    "train19 = pd.read_csv(\"여객/KR_TB_TR_STN_DAY_CON_20190101_20190531_UTF8.csv\", encoding='utf-8')\n",
    "train20 = pd.read_csv(\"여객/KR_TB_TR_STN_DAY_CON_20200101_20200531_UTF8.csv\", encoding='utf-8')\n",
    "sub19 = pd.read_csv(\"광역/KR_TB_SBWY_STN_HR_CON_20190101_20190531_UTF8.csv\", encoding='utf-8')\n",
    "sub20 = pd.read_csv(\"광역/KR_TB_SBWY_STN_HR_CON_20200101_20200531_UTF8.csv\", encoding='utf-8')"
   ]
  },
  {
   "cell_type": "markdown",
   "metadata": {},
   "source": [
    "## 2. Variable Description\n",
    "\n",
    "#### KR_TB_TR_STN_DAY_CON :: TRAIN 데이터\n",
    "1. RUN_DT : 운행일자 / YYYYMMDD / CHAR\n",
    "2. STN_CD : 역코드 / CHAR\n",
    "3. STN_CD_NM : 역코드명 / 역명 / VARCHAR2\n",
    "4. ABRD_PRNB : 승차인원수 / 해당역에서 승차한 총 인원수 / NUMBER\n",
    "5. GOFF_PRNB : 하차인원수 / 해당역에서 하차한 총 인원수 / NUMBER\n",
    "\n",
    "2019년 36,718개   / 2020년 35,040개  "
   ]
  },
  {
   "cell_type": "code",
   "execution_count": 5,
   "metadata": {},
   "outputs": [
    {
     "data": {
      "text/html": [
       "<div>\n",
       "<style scoped>\n",
       "    .dataframe tbody tr th:only-of-type {\n",
       "        vertical-align: middle;\n",
       "    }\n",
       "\n",
       "    .dataframe tbody tr th {\n",
       "        vertical-align: top;\n",
       "    }\n",
       "\n",
       "    .dataframe thead th {\n",
       "        text-align: right;\n",
       "    }\n",
       "</style>\n",
       "<table border=\"1\" class=\"dataframe\">\n",
       "  <thead>\n",
       "    <tr style=\"text-align: right;\">\n",
       "      <th></th>\n",
       "      <th>RUN_DT</th>\n",
       "      <th>STN_CD</th>\n",
       "      <th>STN_CD_NM</th>\n",
       "      <th>ABRD_PRNB</th>\n",
       "      <th>GOFF_PRNB</th>\n",
       "    </tr>\n",
       "  </thead>\n",
       "  <tbody>\n",
       "    <tr>\n",
       "      <th>0</th>\n",
       "      <td>20190101</td>\n",
       "      <td>924</td>\n",
       "      <td>송도교</td>\n",
       "      <td>1</td>\n",
       "      <td>-</td>\n",
       "    </tr>\n",
       "    <tr>\n",
       "      <th>1</th>\n",
       "      <td>20190101</td>\n",
       "      <td>3900023</td>\n",
       "      <td>서울</td>\n",
       "      <td>35,964</td>\n",
       "      <td>53,079</td>\n",
       "    </tr>\n",
       "    <tr>\n",
       "      <th>2</th>\n",
       "      <td>20190101</td>\n",
       "      <td>3900025</td>\n",
       "      <td>용산</td>\n",
       "      <td>19,207</td>\n",
       "      <td>26,238</td>\n",
       "    </tr>\n",
       "    <tr>\n",
       "      <th>3</th>\n",
       "      <td>20190101</td>\n",
       "      <td>3900030</td>\n",
       "      <td>영등포</td>\n",
       "      <td>11,573</td>\n",
       "      <td>11,538</td>\n",
       "    </tr>\n",
       "    <tr>\n",
       "      <th>4</th>\n",
       "      <td>20190101</td>\n",
       "      <td>3900039</td>\n",
       "      <td>안양</td>\n",
       "      <td>415</td>\n",
       "      <td>348</td>\n",
       "    </tr>\n",
       "    <tr>\n",
       "      <th>...</th>\n",
       "      <td>...</td>\n",
       "      <td>...</td>\n",
       "      <td>...</td>\n",
       "      <td>...</td>\n",
       "      <td>...</td>\n",
       "    </tr>\n",
       "    <tr>\n",
       "      <th>36713</th>\n",
       "      <td>20190531</td>\n",
       "      <td>3901063</td>\n",
       "      <td>인천공항T2</td>\n",
       "      <td>154</td>\n",
       "      <td>270</td>\n",
       "    </tr>\n",
       "    <tr>\n",
       "      <th>36714</th>\n",
       "      <td>20190531</td>\n",
       "      <td>3901065</td>\n",
       "      <td>월포</td>\n",
       "      <td>14</td>\n",
       "      <td>44</td>\n",
       "    </tr>\n",
       "    <tr>\n",
       "      <th>36715</th>\n",
       "      <td>20190531</td>\n",
       "      <td>3901066</td>\n",
       "      <td>장사</td>\n",
       "      <td>17</td>\n",
       "      <td>18</td>\n",
       "    </tr>\n",
       "    <tr>\n",
       "      <th>36716</th>\n",
       "      <td>20190531</td>\n",
       "      <td>3901067</td>\n",
       "      <td>강구</td>\n",
       "      <td>19</td>\n",
       "      <td>29</td>\n",
       "    </tr>\n",
       "    <tr>\n",
       "      <th>36717</th>\n",
       "      <td>20190531</td>\n",
       "      <td>3901068</td>\n",
       "      <td>영덕</td>\n",
       "      <td>144</td>\n",
       "      <td>171</td>\n",
       "    </tr>\n",
       "  </tbody>\n",
       "</table>\n",
       "<p>36718 rows × 5 columns</p>\n",
       "</div>"
      ],
      "text/plain": [
       "         RUN_DT   STN_CD STN_CD_NM  ABRD_PRNB   GOFF_PRNB \n",
       "0      20190101      924       송도교          1           - \n",
       "1      20190101  3900023        서울     35,964      53,079 \n",
       "2      20190101  3900025        용산     19,207      26,238 \n",
       "3      20190101  3900030       영등포     11,573      11,538 \n",
       "4      20190101  3900039        안양        415         348 \n",
       "...         ...      ...       ...         ...         ...\n",
       "36713  20190531  3901063    인천공항T2        154         270 \n",
       "36714  20190531  3901065        월포         14          44 \n",
       "36715  20190531  3901066        장사         17          18 \n",
       "36716  20190531  3901067        강구         19          29 \n",
       "36717  20190531  3901068        영덕        144         171 \n",
       "\n",
       "[36718 rows x 5 columns]"
      ]
     },
     "execution_count": 5,
     "metadata": {},
     "output_type": "execute_result"
    }
   ],
   "source": [
    "train19"
   ]
  },
  {
   "cell_type": "code",
   "execution_count": 6,
   "metadata": {},
   "outputs": [
    {
     "data": {
      "text/html": [
       "<div>\n",
       "<style scoped>\n",
       "    .dataframe tbody tr th:only-of-type {\n",
       "        vertical-align: middle;\n",
       "    }\n",
       "\n",
       "    .dataframe tbody tr th {\n",
       "        vertical-align: top;\n",
       "    }\n",
       "\n",
       "    .dataframe thead th {\n",
       "        text-align: right;\n",
       "    }\n",
       "</style>\n",
       "<table border=\"1\" class=\"dataframe\">\n",
       "  <thead>\n",
       "    <tr style=\"text-align: right;\">\n",
       "      <th></th>\n",
       "      <th>RUN_DT</th>\n",
       "      <th>STN_CD</th>\n",
       "      <th>STN_CD_NM</th>\n",
       "      <th>ABRD_PRNB</th>\n",
       "      <th>GOFF_PRNB</th>\n",
       "    </tr>\n",
       "  </thead>\n",
       "  <tbody>\n",
       "    <tr>\n",
       "      <th>0</th>\n",
       "      <td>20200101</td>\n",
       "      <td>924</td>\n",
       "      <td>송도교</td>\n",
       "      <td>2</td>\n",
       "      <td>-</td>\n",
       "    </tr>\n",
       "    <tr>\n",
       "      <th>1</th>\n",
       "      <td>20200101</td>\n",
       "      <td>3900023</td>\n",
       "      <td>서울</td>\n",
       "      <td>38,306</td>\n",
       "      <td>50,440</td>\n",
       "    </tr>\n",
       "    <tr>\n",
       "      <th>2</th>\n",
       "      <td>20200101</td>\n",
       "      <td>3900025</td>\n",
       "      <td>용산</td>\n",
       "      <td>19,702</td>\n",
       "      <td>23,967</td>\n",
       "    </tr>\n",
       "    <tr>\n",
       "      <th>3</th>\n",
       "      <td>20200101</td>\n",
       "      <td>3900030</td>\n",
       "      <td>영등포</td>\n",
       "      <td>10,812</td>\n",
       "      <td>11,125</td>\n",
       "    </tr>\n",
       "    <tr>\n",
       "      <th>4</th>\n",
       "      <td>20200101</td>\n",
       "      <td>3900039</td>\n",
       "      <td>안양</td>\n",
       "      <td>387</td>\n",
       "      <td>269</td>\n",
       "    </tr>\n",
       "    <tr>\n",
       "      <th>...</th>\n",
       "      <td>...</td>\n",
       "      <td>...</td>\n",
       "      <td>...</td>\n",
       "      <td>...</td>\n",
       "      <td>...</td>\n",
       "    </tr>\n",
       "    <tr>\n",
       "      <th>35035</th>\n",
       "      <td>20200531</td>\n",
       "      <td>3901063</td>\n",
       "      <td>인천공항T2</td>\n",
       "      <td>1</td>\n",
       "      <td>-</td>\n",
       "    </tr>\n",
       "    <tr>\n",
       "      <th>35036</th>\n",
       "      <td>20200531</td>\n",
       "      <td>3901065</td>\n",
       "      <td>월포</td>\n",
       "      <td>31</td>\n",
       "      <td>14</td>\n",
       "    </tr>\n",
       "    <tr>\n",
       "      <th>35037</th>\n",
       "      <td>20200531</td>\n",
       "      <td>3901066</td>\n",
       "      <td>장사</td>\n",
       "      <td>5</td>\n",
       "      <td>6</td>\n",
       "    </tr>\n",
       "    <tr>\n",
       "      <th>35038</th>\n",
       "      <td>20200531</td>\n",
       "      <td>3901067</td>\n",
       "      <td>강구</td>\n",
       "      <td>33</td>\n",
       "      <td>9</td>\n",
       "    </tr>\n",
       "    <tr>\n",
       "      <th>35039</th>\n",
       "      <td>20200531</td>\n",
       "      <td>3901068</td>\n",
       "      <td>영덕</td>\n",
       "      <td>108</td>\n",
       "      <td>119</td>\n",
       "    </tr>\n",
       "  </tbody>\n",
       "</table>\n",
       "<p>35040 rows × 5 columns</p>\n",
       "</div>"
      ],
      "text/plain": [
       "         RUN_DT   STN_CD STN_CD_NM  ABRD_PRNB   GOFF_PRNB \n",
       "0      20200101      924       송도교          2           - \n",
       "1      20200101  3900023        서울     38,306      50,440 \n",
       "2      20200101  3900025        용산     19,702      23,967 \n",
       "3      20200101  3900030       영등포     10,812      11,125 \n",
       "4      20200101  3900039        안양        387         269 \n",
       "...         ...      ...       ...         ...         ...\n",
       "35035  20200531  3901063    인천공항T2          1           - \n",
       "35036  20200531  3901065        월포         31          14 \n",
       "35037  20200531  3901066        장사          5           6 \n",
       "35038  20200531  3901067        강구         33           9 \n",
       "35039  20200531  3901068        영덕        108         119 \n",
       "\n",
       "[35040 rows x 5 columns]"
      ]
     },
     "execution_count": 6,
     "metadata": {},
     "output_type": "execute_result"
    }
   ],
   "source": [
    "train20"
   ]
  },
  {
   "cell_type": "markdown",
   "metadata": {},
   "source": [
    "#### KR_TB_SBWY_STN_HR_CON :: 전철 데이터\n",
    "1. RUN_DT : 운행일자 / YYYYMMDD / CHAR\n",
    "2. SBWY_STN_PRPR_NO : 전쳘역고유번호 / 전쳘역 관리코드 / VARCHAR2\n",
    "3. SBWY_STN_CD_NM : 전철역코드명 / 전철역명 / VARCHAR2\n",
    "4. TMWD_DV : 시간대구분 / 00시~23시까지 시간대 표시 / CHAR\n",
    "5. SBWY_ABRD_PRNB : 전철승차인원수 / 해당역에서 승차한 총 인원수 / NUMBER\n",
    "6. SBWY_GOFF_PRNB : 전철하차인원수 / 해당역에서 하차한 총 인원수 / NUMBER\n",
    "\n",
    "2019년 857,876개 / 2020년 860,702개  \n",
    "로 여객 데이터 수보다 훨씬 많은 것을 볼 수 있음. (아무래도 시간대별로 수집했으므로)"
   ]
  },
  {
   "cell_type": "code",
   "execution_count": 7,
   "metadata": {},
   "outputs": [
    {
     "data": {
      "text/html": [
       "<div>\n",
       "<style scoped>\n",
       "    .dataframe tbody tr th:only-of-type {\n",
       "        vertical-align: middle;\n",
       "    }\n",
       "\n",
       "    .dataframe tbody tr th {\n",
       "        vertical-align: top;\n",
       "    }\n",
       "\n",
       "    .dataframe thead th {\n",
       "        text-align: right;\n",
       "    }\n",
       "</style>\n",
       "<table border=\"1\" class=\"dataframe\">\n",
       "  <thead>\n",
       "    <tr style=\"text-align: right;\">\n",
       "      <th></th>\n",
       "      <th>RUN_DT</th>\n",
       "      <th>SBWY_STN_PRPR_NO</th>\n",
       "      <th>SBWY_STN_CD_NM</th>\n",
       "      <th>TMWD_DV</th>\n",
       "      <th>SBWY_ABRD_PRNB</th>\n",
       "      <th>SBWY_GOFF_PRNB</th>\n",
       "    </tr>\n",
       "  </thead>\n",
       "  <tbody>\n",
       "    <tr>\n",
       "      <th>0</th>\n",
       "      <td>20190101</td>\n",
       "      <td>1001</td>\n",
       "      <td>서울</td>\n",
       "      <td>00시</td>\n",
       "      <td>7</td>\n",
       "      <td>22</td>\n",
       "    </tr>\n",
       "    <tr>\n",
       "      <th>1</th>\n",
       "      <td>20190101</td>\n",
       "      <td>1001</td>\n",
       "      <td>서울</td>\n",
       "      <td>05시</td>\n",
       "      <td>10</td>\n",
       "      <td>1</td>\n",
       "    </tr>\n",
       "    <tr>\n",
       "      <th>2</th>\n",
       "      <td>20190101</td>\n",
       "      <td>1001</td>\n",
       "      <td>서울</td>\n",
       "      <td>06시</td>\n",
       "      <td>35</td>\n",
       "      <td>4</td>\n",
       "    </tr>\n",
       "    <tr>\n",
       "      <th>3</th>\n",
       "      <td>20190101</td>\n",
       "      <td>1001</td>\n",
       "      <td>서울</td>\n",
       "      <td>07시</td>\n",
       "      <td>31</td>\n",
       "      <td>39</td>\n",
       "    </tr>\n",
       "    <tr>\n",
       "      <th>4</th>\n",
       "      <td>20190101</td>\n",
       "      <td>1001</td>\n",
       "      <td>서울</td>\n",
       "      <td>08시</td>\n",
       "      <td>43</td>\n",
       "      <td>101</td>\n",
       "    </tr>\n",
       "    <tr>\n",
       "      <th>...</th>\n",
       "      <td>...</td>\n",
       "      <td>...</td>\n",
       "      <td>...</td>\n",
       "      <td>...</td>\n",
       "      <td>...</td>\n",
       "      <td>...</td>\n",
       "    </tr>\n",
       "    <tr>\n",
       "      <th>857871</th>\n",
       "      <td>20190531</td>\n",
       "      <td>8014</td>\n",
       "      <td>일광</td>\n",
       "      <td>19시</td>\n",
       "      <td>95</td>\n",
       "      <td>109</td>\n",
       "    </tr>\n",
       "    <tr>\n",
       "      <th>857872</th>\n",
       "      <td>20190531</td>\n",
       "      <td>8014</td>\n",
       "      <td>일광</td>\n",
       "      <td>20시</td>\n",
       "      <td>45</td>\n",
       "      <td>73</td>\n",
       "    </tr>\n",
       "    <tr>\n",
       "      <th>857873</th>\n",
       "      <td>20190531</td>\n",
       "      <td>8014</td>\n",
       "      <td>일광</td>\n",
       "      <td>21시</td>\n",
       "      <td>70</td>\n",
       "      <td>57</td>\n",
       "    </tr>\n",
       "    <tr>\n",
       "      <th>857874</th>\n",
       "      <td>20190531</td>\n",
       "      <td>8014</td>\n",
       "      <td>일광</td>\n",
       "      <td>22시</td>\n",
       "      <td>54</td>\n",
       "      <td>29</td>\n",
       "    </tr>\n",
       "    <tr>\n",
       "      <th>857875</th>\n",
       "      <td>20190531</td>\n",
       "      <td>8014</td>\n",
       "      <td>일광</td>\n",
       "      <td>23시</td>\n",
       "      <td>50</td>\n",
       "      <td>6</td>\n",
       "    </tr>\n",
       "  </tbody>\n",
       "</table>\n",
       "<p>857876 rows × 6 columns</p>\n",
       "</div>"
      ],
      "text/plain": [
       "          RUN_DT  SBWY_STN_PRPR_NO SBWY_STN_CD_NM TMWD_DV SBWY_ABRD_PRNB  \\\n",
       "0       20190101              1001             서울     00시             7    \n",
       "1       20190101              1001             서울     05시            10    \n",
       "2       20190101              1001             서울     06시            35    \n",
       "3       20190101              1001             서울     07시            31    \n",
       "4       20190101              1001             서울     08시            43    \n",
       "...          ...               ...            ...     ...            ...   \n",
       "857871  20190531              8014             일광     19시            95    \n",
       "857872  20190531              8014             일광     20시            45    \n",
       "857873  20190531              8014             일광     21시            70    \n",
       "857874  20190531              8014             일광     22시            54    \n",
       "857875  20190531              8014             일광     23시            50    \n",
       "\n",
       "       SBWY_GOFF_PRNB  \n",
       "0                 22   \n",
       "1                  1   \n",
       "2                  4   \n",
       "3                 39   \n",
       "4                101   \n",
       "...               ...  \n",
       "857871           109   \n",
       "857872            73   \n",
       "857873            57   \n",
       "857874            29   \n",
       "857875             6   \n",
       "\n",
       "[857876 rows x 6 columns]"
      ]
     },
     "execution_count": 7,
     "metadata": {},
     "output_type": "execute_result"
    }
   ],
   "source": [
    "sub19"
   ]
  },
  {
   "cell_type": "code",
   "execution_count": 8,
   "metadata": {},
   "outputs": [
    {
     "data": {
      "text/html": [
       "<div>\n",
       "<style scoped>\n",
       "    .dataframe tbody tr th:only-of-type {\n",
       "        vertical-align: middle;\n",
       "    }\n",
       "\n",
       "    .dataframe tbody tr th {\n",
       "        vertical-align: top;\n",
       "    }\n",
       "\n",
       "    .dataframe thead th {\n",
       "        text-align: right;\n",
       "    }\n",
       "</style>\n",
       "<table border=\"1\" class=\"dataframe\">\n",
       "  <thead>\n",
       "    <tr style=\"text-align: right;\">\n",
       "      <th></th>\n",
       "      <th>RUN_DT</th>\n",
       "      <th>SBWY_STN_PRPR_NO</th>\n",
       "      <th>SBWY_STN_CD_NM</th>\n",
       "      <th>TMWD_DV</th>\n",
       "      <th>SBWY_ABRD_PRNB</th>\n",
       "      <th>SBWY_GOFF_PRNB</th>\n",
       "    </tr>\n",
       "  </thead>\n",
       "  <tbody>\n",
       "    <tr>\n",
       "      <th>0</th>\n",
       "      <td>20200101</td>\n",
       "      <td>1001</td>\n",
       "      <td>서울</td>\n",
       "      <td>00시</td>\n",
       "      <td>4</td>\n",
       "      <td>13</td>\n",
       "    </tr>\n",
       "    <tr>\n",
       "      <th>1</th>\n",
       "      <td>20200101</td>\n",
       "      <td>1001</td>\n",
       "      <td>서울</td>\n",
       "      <td>05시</td>\n",
       "      <td>13</td>\n",
       "      <td>1</td>\n",
       "    </tr>\n",
       "    <tr>\n",
       "      <th>2</th>\n",
       "      <td>20200101</td>\n",
       "      <td>1001</td>\n",
       "      <td>서울</td>\n",
       "      <td>06시</td>\n",
       "      <td>59</td>\n",
       "      <td>5</td>\n",
       "    </tr>\n",
       "    <tr>\n",
       "      <th>3</th>\n",
       "      <td>20200101</td>\n",
       "      <td>1001</td>\n",
       "      <td>서울</td>\n",
       "      <td>07시</td>\n",
       "      <td>32</td>\n",
       "      <td>70</td>\n",
       "    </tr>\n",
       "    <tr>\n",
       "      <th>4</th>\n",
       "      <td>20200101</td>\n",
       "      <td>1001</td>\n",
       "      <td>서울</td>\n",
       "      <td>08시</td>\n",
       "      <td>61</td>\n",
       "      <td>113</td>\n",
       "    </tr>\n",
       "    <tr>\n",
       "      <th>...</th>\n",
       "      <td>...</td>\n",
       "      <td>...</td>\n",
       "      <td>...</td>\n",
       "      <td>...</td>\n",
       "      <td>...</td>\n",
       "      <td>...</td>\n",
       "    </tr>\n",
       "    <tr>\n",
       "      <th>860707</th>\n",
       "      <td>20200531</td>\n",
       "      <td>8015</td>\n",
       "      <td>부산원동</td>\n",
       "      <td>19시</td>\n",
       "      <td>62</td>\n",
       "      <td>24</td>\n",
       "    </tr>\n",
       "    <tr>\n",
       "      <th>860708</th>\n",
       "      <td>20200531</td>\n",
       "      <td>8015</td>\n",
       "      <td>부산원동</td>\n",
       "      <td>20시</td>\n",
       "      <td>41</td>\n",
       "      <td>18</td>\n",
       "    </tr>\n",
       "    <tr>\n",
       "      <th>860709</th>\n",
       "      <td>20200531</td>\n",
       "      <td>8015</td>\n",
       "      <td>부산원동</td>\n",
       "      <td>21시</td>\n",
       "      <td>56</td>\n",
       "      <td>12</td>\n",
       "    </tr>\n",
       "    <tr>\n",
       "      <th>860710</th>\n",
       "      <td>20200531</td>\n",
       "      <td>8015</td>\n",
       "      <td>부산원동</td>\n",
       "      <td>22시</td>\n",
       "      <td>13</td>\n",
       "      <td>-</td>\n",
       "    </tr>\n",
       "    <tr>\n",
       "      <th>860711</th>\n",
       "      <td>20200531</td>\n",
       "      <td>8015</td>\n",
       "      <td>부산원동</td>\n",
       "      <td>23시</td>\n",
       "      <td>10</td>\n",
       "      <td>5</td>\n",
       "    </tr>\n",
       "  </tbody>\n",
       "</table>\n",
       "<p>860712 rows × 6 columns</p>\n",
       "</div>"
      ],
      "text/plain": [
       "          RUN_DT  SBWY_STN_PRPR_NO SBWY_STN_CD_NM TMWD_DV SBWY_ABRD_PRNB  \\\n",
       "0       20200101              1001             서울     00시             4    \n",
       "1       20200101              1001             서울     05시            13    \n",
       "2       20200101              1001             서울     06시            59    \n",
       "3       20200101              1001             서울     07시            32    \n",
       "4       20200101              1001             서울     08시            61    \n",
       "...          ...               ...            ...     ...            ...   \n",
       "860707  20200531              8015           부산원동     19시            62    \n",
       "860708  20200531              8015           부산원동     20시            41    \n",
       "860709  20200531              8015           부산원동     21시            56    \n",
       "860710  20200531              8015           부산원동     22시            13    \n",
       "860711  20200531              8015           부산원동     23시            10    \n",
       "\n",
       "       SBWY_GOFF_PRNB  \n",
       "0                 13   \n",
       "1                  1   \n",
       "2                  5   \n",
       "3                 70   \n",
       "4                113   \n",
       "...               ...  \n",
       "860707            24   \n",
       "860708            18   \n",
       "860709            12   \n",
       "860710             -   \n",
       "860711             5   \n",
       "\n",
       "[860712 rows x 6 columns]"
      ]
     },
     "execution_count": 8,
     "metadata": {},
     "output_type": "execute_result"
    }
   ],
   "source": [
    "sub20"
   ]
  },
  {
   "cell_type": "markdown",
   "metadata": {},
   "source": [
    "## 3. KR_TB_TR_STN_DAY_CON :: TRAIN 데이터"
   ]
  },
  {
   "cell_type": "markdown",
   "metadata": {},
   "source": [
    "### 3-1. 운행일자(RUN_DT)"
   ]
  },
  {
   "cell_type": "code",
   "execution_count": 9,
   "metadata": {},
   "outputs": [],
   "source": [
    "run19 = train19['RUN_DT'].value_counts()\n",
    "run20 = train20['RUN_DT'].value_counts()"
   ]
  },
  {
   "cell_type": "code",
   "execution_count": 11,
   "metadata": {},
   "outputs": [
    {
     "data": {
      "text/plain": [
       "20190220    253\n",
       "20190126    252\n",
       "20190221    252\n",
       "20190102    252\n",
       "20190131    252\n",
       "           ... \n",
       "20190416    233\n",
       "20190409    232\n",
       "20190513    232\n",
       "20190506    232\n",
       "20190430    231\n",
       "Name: RUN_DT, Length: 151, dtype: int64"
      ]
     },
     "execution_count": 11,
     "metadata": {},
     "output_type": "execute_result"
    }
   ],
   "source": [
    "run19\n",
    "#run19/20은 이렇게 날짜별로 각 몇개의 데이터가 수집되어 있는가에 대한 정보이다."
   ]
  },
  {
   "cell_type": "code",
   "execution_count": 12,
   "metadata": {},
   "outputs": [
    {
     "data": {
      "text/plain": [
       "count    151.000000\n",
       "mean     243.165563\n",
       "std        5.439890\n",
       "min      231.000000\n",
       "25%      239.000000\n",
       "50%      243.000000\n",
       "75%      248.000000\n",
       "max      253.000000\n",
       "Name: RUN_DT, dtype: float64"
      ]
     },
     "execution_count": 12,
     "metadata": {},
     "output_type": "execute_result"
    }
   ],
   "source": [
    "run19.describe()"
   ]
  },
  {
   "cell_type": "code",
   "execution_count": 13,
   "metadata": {},
   "outputs": [
    {
     "data": {
      "text/plain": [
       "count    152.000000\n",
       "mean     230.526316\n",
       "std        3.269258\n",
       "min      223.000000\n",
       "25%      228.000000\n",
       "50%      230.000000\n",
       "75%      233.000000\n",
       "max      239.000000\n",
       "Name: RUN_DT, dtype: float64"
      ]
     },
     "execution_count": 13,
     "metadata": {},
     "output_type": "execute_result"
    }
   ],
   "source": [
    "run20.describe()"
   ]
  },
  {
   "cell_type": "markdown",
   "metadata": {},
   "source": [
    "① 2019년 데이터 ::  \n",
    "2019.01.01 ~ 2019.05.31 사이 총 151개의 날짜  (매일운행)  \n",
    "min, mean, max가 순서대로 231, 243, 253인 것으로 보아 날짜별로 데이터의 차이는 없음.  \n",
    "각 날짜별로 평균 243개의 데이터가 기록되어 있다고 볼 수 있다.\n",
    "\n",
    "② 2020년 데이터 ::  \n",
    "2020.01.01 ~ 2020.05.31 사이 총 152개의 날짜  (매일운행)  \n",
    "min, mean, max가 순서대로 223, 230, 239인 것으로 보아 날짜별로 데이터의 차이는 없음.  \n",
    "각 날짜별로 평균 230개의 데이터가 기록되어 있다고 볼 수 있다."
   ]
  },
  {
   "cell_type": "markdown",
   "metadata": {},
   "source": [
    "### 3-2. 역 코드명 (STN_CD_NM) // 역 코드 (STN_CD)"
   ]
  },
  {
   "cell_type": "code",
   "execution_count": 16,
   "metadata": {},
   "outputs": [
    {
     "data": {
      "text/plain": [
       "임실      151\n",
       "대전      151\n",
       "의성      151\n",
       "횡성      151\n",
       "판교      151\n",
       "       ... \n",
       "별내        2\n",
       "망우        2\n",
       "의왕        1\n",
       "자미원       1\n",
       "망상해변      1\n",
       "Name: STN_CD_NM, Length: 266, dtype: int64"
      ]
     },
     "execution_count": 16,
     "metadata": {},
     "output_type": "execute_result"
    }
   ],
   "source": [
    "stn_nm19"
   ]
  },
  {
   "cell_type": "code",
   "execution_count": 15,
   "metadata": {},
   "outputs": [],
   "source": [
    "stn_nm19 = train19['STN_CD_NM'].value_counts()\n",
    "stn_nm20 = train20['STN_CD_NM'].value_counts()"
   ]
  },
  {
   "cell_type": "code",
   "execution_count": 12,
   "metadata": {},
   "outputs": [
    {
     "name": "stdout",
     "output_type": "stream",
     "text": [
      "Index(['김천구미', '평창', '진주', '구미', '철암', '서광주', '중리', '대천', '왕십리', '삽교',\n",
      "       ...\n",
      "       '운천', '서빙고', '백운', '광운대', '창동', '망우', '별내', '자미원', '의왕', '망상해변'],\n",
      "      dtype='object', length=266)\n",
      "Index(['김천구미', '진주', '서광주', '조성', '왕십리', '삽교', '남창', '안동', '덕하', '곡성',\n",
      "       ...\n",
      "       '백양리', '정선', '송도교', '아우라지', '나전', '별어곡', '선평', '비동', '광운대', '동두천'],\n",
      "      dtype='object', length=243)\n"
     ]
    }
   ],
   "source": [
    "print(stn_nm19.index.unique()) #2019년 데이터에서 역은 중복없이 266개\n",
    "print(stn_nm20.index.unique()) #2020년 데이터에서 역은 중복없이 243개"
   ]
  },
  {
   "cell_type": "markdown",
   "metadata": {},
   "source": [
    "2019, 2020년도 각각 266개, 243개의 지하철역을 대상으로 수집된 것을 알 수 있다."
   ]
  },
  {
   "cell_type": "code",
   "execution_count": 13,
   "metadata": {},
   "outputs": [
    {
     "data": {
      "text/plain": [
       "망상해변        1\n",
       "의왕          1\n",
       "자미원         1\n",
       "별내          2\n",
       "망우          2\n",
       "         ... \n",
       "구포        151\n",
       "불국사       151\n",
       "연산        151\n",
       "인천공항T1    151\n",
       "강구        151\n",
       "Name: STN_CD_NM, Length: 266, dtype: int64"
      ]
     },
     "execution_count": 13,
     "metadata": {},
     "output_type": "execute_result"
    }
   ],
   "source": [
    "stn_nm19.sort_values() #빈도수로 오름차순 정렬"
   ]
  },
  {
   "cell_type": "code",
   "execution_count": 14,
   "metadata": {},
   "outputs": [
    {
     "data": {
      "text/plain": [
       "동두천      1\n",
       "광운대      1\n",
       "비동       3\n",
       "선평       8\n",
       "별어곡     12\n",
       "      ... \n",
       "구포     152\n",
       "불국사    152\n",
       "만종     152\n",
       "진영     152\n",
       "진상     152\n",
       "Name: STN_CD_NM, Length: 243, dtype: int64"
      ]
     },
     "execution_count": 14,
     "metadata": {},
     "output_type": "execute_result"
    }
   ],
   "source": [
    "stn_nm20.sort_values() #빈도수로 오름차순 정렬"
   ]
  },
  {
   "cell_type": "markdown",
   "metadata": {},
   "source": [
    "모든 역에서 매일매일 데이터가 수집되진 않은 것 같다. "
   ]
  },
  {
   "cell_type": "code",
   "execution_count": 15,
   "metadata": {},
   "outputs": [
    {
     "data": {
      "text/html": [
       "<div>\n",
       "<style scoped>\n",
       "    .dataframe tbody tr th:only-of-type {\n",
       "        vertical-align: middle;\n",
       "    }\n",
       "\n",
       "    .dataframe tbody tr th {\n",
       "        vertical-align: top;\n",
       "    }\n",
       "\n",
       "    .dataframe thead th {\n",
       "        text-align: right;\n",
       "    }\n",
       "</style>\n",
       "<table border=\"1\" class=\"dataframe\">\n",
       "  <thead>\n",
       "    <tr style=\"text-align: right;\">\n",
       "      <th></th>\n",
       "      <th>RUN_DT</th>\n",
       "      <th>STN_CD</th>\n",
       "      <th>STN_CD_NM</th>\n",
       "      <th>ABRD_PRNB</th>\n",
       "      <th>GOFF_PRNB</th>\n",
       "    </tr>\n",
       "  </thead>\n",
       "  <tbody>\n",
       "    <tr>\n",
       "      <th>13373</th>\n",
       "      <td>20190224</td>\n",
       "      <td>3900116</td>\n",
       "      <td>망우</td>\n",
       "      <td>103</td>\n",
       "      <td>103</td>\n",
       "    </tr>\n",
       "    <tr>\n",
       "      <th>26764</th>\n",
       "      <td>20190420</td>\n",
       "      <td>3900116</td>\n",
       "      <td>망우</td>\n",
       "      <td>224</td>\n",
       "      <td>224</td>\n",
       "    </tr>\n",
       "  </tbody>\n",
       "</table>\n",
       "</div>"
      ],
      "text/plain": [
       "         RUN_DT   STN_CD STN_CD_NM  ABRD_PRNB   GOFF_PRNB \n",
       "13373  20190224  3900116        망우        103         103 \n",
       "26764  20190420  3900116        망우        224         224 "
      ]
     },
     "execution_count": 15,
     "metadata": {},
     "output_type": "execute_result"
    }
   ],
   "source": [
    "#예를 들어, 망우역의 경우 2019년에서 2개의 데이터가 있었으며 각각 2월 24일, 4월 20일이다.\n",
    "train19[train19['STN_CD_NM'] == \"망우\"]"
   ]
  },
  {
   "cell_type": "markdown",
   "metadata": {},
   "source": [
    "### 3-3. 승/하차 인원수 (ABRD_PRNB/GOFF_PRNB)"
   ]
  },
  {
   "cell_type": "code",
   "execution_count": 16,
   "metadata": {},
   "outputs": [
    {
     "data": {
      "text/plain": [
       "Index(['RUN_DT', 'STN_CD', 'STN_CD_NM', ' ABRD_PRNB ', ' GOFF_PRNB '], dtype='object')"
      ]
     },
     "execution_count": 16,
     "metadata": {},
     "output_type": "execute_result"
    }
   ],
   "source": [
    "train19.columns #컬럼 확인, 스페이스는 왜 들어간거?"
   ]
  },
  {
   "cell_type": "code",
   "execution_count": 17,
   "metadata": {},
   "outputs": [
    {
     "data": {
      "text/plain": [
       "0              1 \n",
       "1         35,964 \n",
       "2         19,207 \n",
       "3         11,573 \n",
       "4            415 \n",
       "           ...   \n",
       "36713        154 \n",
       "36714         14 \n",
       "36715         17 \n",
       "36716         19 \n",
       "36717        144 \n",
       "Name:  ABRD_PRNB , Length: 36718, dtype: object"
      ]
     },
     "execution_count": 17,
     "metadata": {},
     "output_type": "execute_result"
    }
   ],
   "source": [
    "train19[' ABRD_PRNB '] "
   ]
  },
  {
   "cell_type": "code",
   "execution_count": 18,
   "metadata": {},
   "outputs": [
    {
     "data": {
      "text/plain": [
       "0              - \n",
       "1         53,079 \n",
       "2         26,238 \n",
       "3         11,538 \n",
       "4            348 \n",
       "           ...   \n",
       "36713        270 \n",
       "36714         44 \n",
       "36715         18 \n",
       "36716         29 \n",
       "36717        171 \n",
       "Name:  GOFF_PRNB , Length: 36718, dtype: object"
      ]
     },
     "execution_count": 18,
     "metadata": {},
     "output_type": "execute_result"
    }
   ],
   "source": [
    "train19[' GOFF_PRNB ']"
   ]
  },
  {
   "cell_type": "markdown",
   "metadata": {},
   "source": [
    "describe()를 찍어서 min, mean, max 값을 확인해보려고 했지만, \",\" 때문에 문자로 인식되어서 할 수 없다.   \n",
    "따라서 아래의 전처리를 통해 숫자형으로 바꾸도록 한다."
   ]
  },
  {
   "cell_type": "code",
   "execution_count": 19,
   "metadata": {},
   "outputs": [],
   "source": [
    "def prnb_to_int(bf_series):\n",
    "    series = bf_series.copy()\n",
    "    \n",
    "    #replace ',' -> ''\n",
    "    for i in range(len(series)):\n",
    "        series[i] = series[i].replace(',', '')\n",
    "    \n",
    "    #check missing values\n",
    "    print(\"' - ' count : \", series[series == ' - '].count())\n",
    "    print(\"'0' count : \", series[series == '0'].count())\n",
    "    \n",
    "    #replace ' - ' -> '0'\n",
    "    for i in range(len(series)):\n",
    "        series[i] = series[i].replace(' - ', '0')\n",
    "    \n",
    "    #re-check missing values\n",
    "    print(\"after modification '0' count : \", series[series == '0'].count())\n",
    "\n",
    "    #pirnt a describe result\n",
    "    series = series.astype(str).astype(int).astype(\"Int64\")\n",
    "    \n",
    "    for i in range(len(series)):\n",
    "        if series[i] == 0:\n",
    "            series[i] = np.nan\n",
    "            \n",
    "    print(\"after modification 0 count : \", series[series == 0].count())\n",
    "    print(\"after modification 'nan' count : \", series.isnull().sum())\n",
    "    print(series.describe())\n",
    "    \n",
    "    return series"
   ]
  },
  {
   "cell_type": "code",
   "execution_count": 20,
   "metadata": {},
   "outputs": [
    {
     "name": "stdout",
     "output_type": "stream",
     "text": [
      "\n",
      "**2019년도 여객 승차 데이터**\n",
      "' - ' count :  360\n",
      "'0' count :  0\n",
      "after modification '0' count :  360\n",
      "after modification 0 count :  0\n",
      "after modification 'nan' count :  360\n",
      "count    36358.000000\n",
      "mean      1644.254222\n",
      "std       4908.589764\n",
      "min          1.000000\n",
      "25%         31.000000\n",
      "50%        162.000000\n",
      "75%       1003.000000\n",
      "max      77357.000000\n",
      "Name:  ABRD_PRNB , dtype: float64\n",
      "\n",
      "**2019년도 여객 하차 데이터**\n",
      "' - ' count :  551\n",
      "'0' count :  0\n",
      "after modification '0' count :  551\n",
      "after modification 0 count :  0\n",
      "after modification 'nan' count :  551\n",
      "count    36167.000000\n",
      "mean      1652.937623\n",
      "std       4966.229391\n",
      "min          1.000000\n",
      "25%         30.000000\n",
      "50%        167.000000\n",
      "75%       1003.000000\n",
      "max      80464.000000\n",
      "Name:  GOFF_PRNB , dtype: float64\n",
      "\n",
      "\n",
      "**2020년도 여객 승차 데이터**\n",
      "' - ' count :  288\n",
      "'0' count :  0\n",
      "after modification '0' count :  288\n",
      "after modification 0 count :  0\n",
      "after modification 'nan' count :  288\n",
      "count    34752.000000\n",
      "mean      1053.389762\n",
      "std       3268.873079\n",
      "min          1.000000\n",
      "25%         22.000000\n",
      "50%        117.000000\n",
      "75%        644.000000\n",
      "max      77307.000000\n",
      "Name:  ABRD_PRNB , dtype: float64\n",
      "\n",
      "**2020년도 여객 하차 데이터**\n",
      "' - ' count :  538\n",
      "'0' count :  0\n",
      "after modification '0' count :  538\n",
      "after modification 0 count :  0\n",
      "after modification 'nan' count :  538\n",
      "count    34502.000000\n",
      "mean      1061.022578\n",
      "std       3306.730738\n",
      "min          1.000000\n",
      "25%         21.000000\n",
      "50%        115.000000\n",
      "75%        653.750000\n",
      "max      73680.000000\n",
      "Name:  GOFF_PRNB , dtype: float64\n"
     ]
    }
   ],
   "source": [
    "print(\"\\n**2019년도 여객 승차 데이터**\")\n",
    "train19[' ABRD_PRNB '] = prnb_to_int(train19[' ABRD_PRNB '])\n",
    "print(\"\\n**2019년도 여객 하차 데이터**\")\n",
    "train19[' GOFF_PRNB '] = prnb_to_int(train19[' GOFF_PRNB '])\n",
    "\n",
    "print(\"\")\n",
    "\n",
    "print(\"\\n**2020년도 여객 승차 데이터**\")\n",
    "train20[' ABRD_PRNB '] = prnb_to_int(train20[' ABRD_PRNB '])\n",
    "print(\"\\n**2020년도 여객 하차 데이터**\")\n",
    "train20[' GOFF_PRNB '] = prnb_to_int(train20[' GOFF_PRNB '])"
   ]
  },
  {
   "cell_type": "markdown",
   "metadata": {},
   "source": [
    "모두 비슷한 값을 가지고 있는 것을 볼 수 있다.   \n",
    "다만 모든 수치에서 2020년도 자료가 더 적게 나왔다. (코로나의 영향?)"
   ]
  },
  {
   "cell_type": "markdown",
   "metadata": {},
   "source": [
    "각 데이터에서 max 값을 가지고 있는 역은 무엇인지 찍어보았다."
   ]
  },
  {
   "cell_type": "code",
   "execution_count": 21,
   "metadata": {},
   "outputs": [
    {
     "data": {
      "text/plain": [
       "77357"
      ]
     },
     "execution_count": 21,
     "metadata": {},
     "output_type": "execute_result"
    }
   ],
   "source": [
    "max(train19[train19[' ABRD_PRNB '] != np.nan][' ABRD_PRNB '])"
   ]
  },
  {
   "cell_type": "code",
   "execution_count": 22,
   "metadata": {},
   "outputs": [
    {
     "data": {
      "text/html": [
       "<div>\n",
       "<style scoped>\n",
       "    .dataframe tbody tr th:only-of-type {\n",
       "        vertical-align: middle;\n",
       "    }\n",
       "\n",
       "    .dataframe tbody tr th {\n",
       "        vertical-align: top;\n",
       "    }\n",
       "\n",
       "    .dataframe thead th {\n",
       "        text-align: right;\n",
       "    }\n",
       "</style>\n",
       "<table border=\"1\" class=\"dataframe\">\n",
       "  <thead>\n",
       "    <tr style=\"text-align: right;\">\n",
       "      <th></th>\n",
       "      <th>RUN_DT</th>\n",
       "      <th>STN_CD</th>\n",
       "      <th>STN_CD_NM</th>\n",
       "      <th>ABRD_PRNB</th>\n",
       "      <th>GOFF_PRNB</th>\n",
       "    </tr>\n",
       "  </thead>\n",
       "  <tbody>\n",
       "    <tr>\n",
       "      <th>30053</th>\n",
       "      <td>20190504</td>\n",
       "      <td>3900023</td>\n",
       "      <td>서울</td>\n",
       "      <td>77357</td>\n",
       "      <td>63603</td>\n",
       "    </tr>\n",
       "  </tbody>\n",
       "</table>\n",
       "</div>"
      ],
      "text/plain": [
       "         RUN_DT   STN_CD STN_CD_NM   ABRD_PRNB    GOFF_PRNB \n",
       "30053  20190504  3900023        서울        77357        63603"
      ]
     },
     "execution_count": 22,
     "metadata": {},
     "output_type": "execute_result"
    }
   ],
   "source": [
    "# 2019년 철도 승차인원 MAX == \"서울역\"\n",
    "train19[train19[' ABRD_PRNB '] == max(train19[train19[' ABRD_PRNB '] != np.nan][' ABRD_PRNB '])]"
   ]
  },
  {
   "cell_type": "code",
   "execution_count": 23,
   "metadata": {},
   "outputs": [
    {
     "data": {
      "text/html": [
       "<div>\n",
       "<style scoped>\n",
       "    .dataframe tbody tr th:only-of-type {\n",
       "        vertical-align: middle;\n",
       "    }\n",
       "\n",
       "    .dataframe tbody tr th {\n",
       "        vertical-align: top;\n",
       "    }\n",
       "\n",
       "    .dataframe thead th {\n",
       "        text-align: right;\n",
       "    }\n",
       "</style>\n",
       "<table border=\"1\" class=\"dataframe\">\n",
       "  <thead>\n",
       "    <tr style=\"text-align: right;\">\n",
       "      <th></th>\n",
       "      <th>RUN_DT</th>\n",
       "      <th>STN_CD</th>\n",
       "      <th>STN_CD_NM</th>\n",
       "      <th>ABRD_PRNB</th>\n",
       "      <th>GOFF_PRNB</th>\n",
       "    </tr>\n",
       "  </thead>\n",
       "  <tbody>\n",
       "    <tr>\n",
       "      <th>8872</th>\n",
       "      <td>20190206</td>\n",
       "      <td>3900023</td>\n",
       "      <td>서울</td>\n",
       "      <td>35353</td>\n",
       "      <td>80464</td>\n",
       "    </tr>\n",
       "  </tbody>\n",
       "</table>\n",
       "</div>"
      ],
      "text/plain": [
       "        RUN_DT   STN_CD STN_CD_NM   ABRD_PRNB    GOFF_PRNB \n",
       "8872  20190206  3900023        서울        35353        80464"
      ]
     },
     "execution_count": 23,
     "metadata": {},
     "output_type": "execute_result"
    }
   ],
   "source": [
    "# 2019년 철도 하차인원 MAX == \"서울역\"\n",
    "train19[train19[' GOFF_PRNB '] == max(train19[train19[' GOFF_PRNB '] != np.nan][' GOFF_PRNB '])]"
   ]
  },
  {
   "cell_type": "code",
   "execution_count": 24,
   "metadata": {},
   "outputs": [
    {
     "data": {
      "text/html": [
       "<div>\n",
       "<style scoped>\n",
       "    .dataframe tbody tr th:only-of-type {\n",
       "        vertical-align: middle;\n",
       "    }\n",
       "\n",
       "    .dataframe tbody tr th {\n",
       "        vertical-align: top;\n",
       "    }\n",
       "\n",
       "    .dataframe thead th {\n",
       "        text-align: right;\n",
       "    }\n",
       "</style>\n",
       "<table border=\"1\" class=\"dataframe\">\n",
       "  <thead>\n",
       "    <tr style=\"text-align: right;\">\n",
       "      <th></th>\n",
       "      <th>RUN_DT</th>\n",
       "      <th>STN_CD</th>\n",
       "      <th>STN_CD_NM</th>\n",
       "      <th>ABRD_PRNB</th>\n",
       "      <th>GOFF_PRNB</th>\n",
       "    </tr>\n",
       "  </thead>\n",
       "  <tbody>\n",
       "    <tr>\n",
       "      <th>5168</th>\n",
       "      <td>20200123</td>\n",
       "      <td>3900023</td>\n",
       "      <td>서울</td>\n",
       "      <td>77307</td>\n",
       "      <td>41397</td>\n",
       "    </tr>\n",
       "  </tbody>\n",
       "</table>\n",
       "</div>"
      ],
      "text/plain": [
       "        RUN_DT   STN_CD STN_CD_NM   ABRD_PRNB    GOFF_PRNB \n",
       "5168  20200123  3900023        서울        77307        41397"
      ]
     },
     "execution_count": 24,
     "metadata": {},
     "output_type": "execute_result"
    }
   ],
   "source": [
    "# 2019년 철도 승차인원 MAX == \"서울역\"\n",
    "train20[train20[' ABRD_PRNB '] == max(train20[train20[' ABRD_PRNB '] != np.nan][' ABRD_PRNB '])]"
   ]
  },
  {
   "cell_type": "code",
   "execution_count": 25,
   "metadata": {},
   "outputs": [
    {
     "data": {
      "text/html": [
       "<div>\n",
       "<style scoped>\n",
       "    .dataframe tbody tr th:only-of-type {\n",
       "        vertical-align: middle;\n",
       "    }\n",
       "\n",
       "    .dataframe tbody tr th {\n",
       "        vertical-align: top;\n",
       "    }\n",
       "\n",
       "    .dataframe thead th {\n",
       "        text-align: right;\n",
       "    }\n",
       "</style>\n",
       "<table border=\"1\" class=\"dataframe\">\n",
       "  <thead>\n",
       "    <tr style=\"text-align: right;\">\n",
       "      <th></th>\n",
       "      <th>RUN_DT</th>\n",
       "      <th>STN_CD</th>\n",
       "      <th>STN_CD_NM</th>\n",
       "      <th>ABRD_PRNB</th>\n",
       "      <th>GOFF_PRNB</th>\n",
       "    </tr>\n",
       "  </thead>\n",
       "  <tbody>\n",
       "    <tr>\n",
       "      <th>5874</th>\n",
       "      <td>20200126</td>\n",
       "      <td>3900023</td>\n",
       "      <td>서울</td>\n",
       "      <td>36857</td>\n",
       "      <td>73680</td>\n",
       "    </tr>\n",
       "  </tbody>\n",
       "</table>\n",
       "</div>"
      ],
      "text/plain": [
       "        RUN_DT   STN_CD STN_CD_NM   ABRD_PRNB    GOFF_PRNB \n",
       "5874  20200126  3900023        서울        36857        73680"
      ]
     },
     "execution_count": 25,
     "metadata": {},
     "output_type": "execute_result"
    }
   ],
   "source": [
    "# 2019년 철도 승차인원 MAX == \"서울역\"\n",
    "train20[train20[' GOFF_PRNB '] == max(train20[train20[' GOFF_PRNB '] != np.nan][' GOFF_PRNB '])]"
   ]
  },
  {
   "cell_type": "markdown",
   "metadata": {},
   "source": [
    "모든 연도별/승하차 데이터에서 서울역이 1등으로 가장 많았다. "
   ]
  },
  {
   "cell_type": "markdown",
   "metadata": {},
   "source": [
    "-------------"
   ]
  },
  {
   "cell_type": "markdown",
   "metadata": {},
   "source": [
    "## 4. KR_TB_TR_STN_DAY_CON :: SUBWAY 데이터"
   ]
  },
  {
   "cell_type": "markdown",
   "metadata": {},
   "source": [
    "### 4-1. RUN_DT (운행일자)"
   ]
  },
  {
   "cell_type": "code",
   "execution_count": 26,
   "metadata": {},
   "outputs": [],
   "source": [
    "run19 = sub19['RUN_DT'].value_counts()\n",
    "run20 = sub20['RUN_DT'].value_counts()"
   ]
  },
  {
   "cell_type": "code",
   "execution_count": 27,
   "metadata": {},
   "outputs": [
    {
     "data": {
      "text/plain": [
       "count     151.000000\n",
       "mean     5681.298013\n",
       "std        54.552946\n",
       "min      5575.000000\n",
       "25%      5617.000000\n",
       "50%      5704.000000\n",
       "75%      5721.000000\n",
       "max      5759.000000\n",
       "Name: RUN_DT, dtype: float64"
      ]
     },
     "execution_count": 27,
     "metadata": {},
     "output_type": "execute_result"
    }
   ],
   "source": [
    "run19.describe()"
   ]
  },
  {
   "cell_type": "code",
   "execution_count": 28,
   "metadata": {},
   "outputs": [
    {
     "data": {
      "text/plain": [
       "count     152.000000\n",
       "mean     5662.578947\n",
       "std        41.255708\n",
       "min      5568.000000\n",
       "25%      5633.250000\n",
       "50%      5668.500000\n",
       "75%      5696.250000\n",
       "max      5761.000000\n",
       "Name: RUN_DT, dtype: float64"
      ]
     },
     "execution_count": 28,
     "metadata": {},
     "output_type": "execute_result"
    }
   ],
   "source": [
    "run20.describe()"
   ]
  },
  {
   "cell_type": "markdown",
   "metadata": {},
   "source": [
    "지하철 데이터도 마찬가지로 2019년에서 151개, 2020년에서 152개가 관측된 것을 볼 수 있으며,  \n",
    "데이터 수가 월등히 많았기 때문에 아까 기차 데이터에서 일자별로 평균 240개 정도가 있던 것과는 다르게 일별 5600개 정도의 데이터가 있는 것을 볼 수 있다."
   ]
  },
  {
   "cell_type": "markdown",
   "metadata": {},
   "source": [
    "### 4-2. 전철역고유번호(SBWY_STN_PRPR_NO) // 전쳘역코드명(SBWY_STN_CD_NM)"
   ]
  },
  {
   "cell_type": "code",
   "execution_count": 29,
   "metadata": {},
   "outputs": [],
   "source": [
    "stn_nm19 = sub19['SBWY_STN_CD_NM'].value_counts()\n",
    "stn_nm20 = sub20['SBWY_STN_CD_NM'].value_counts()"
   ]
  },
  {
   "cell_type": "code",
   "execution_count": 30,
   "metadata": {},
   "outputs": [
    {
     "name": "stdout",
     "output_type": "stream",
     "text": [
      "Index(['부평', '영등포', '안산', '수원', '부천', '안양', '산본', '금정', '왕십리', '회기',\n",
      "       ...\n",
      "       '신원', '광명', '대성리', '신촌', '서울(경의선)', '굴봉산', '백양리', '달월', '옥수', '지평'],\n",
      "      dtype='object', length=274)\n",
      "Index(['부평', '안산', '정자', '영등포', '부천', '서현', '주안', '금정', '왕십리', '삼송',\n",
      "       ...\n",
      "       '신원', '신촌', '대성리', '백양리', '굴봉산', '달월', '옥수', '지평', '부산원동', '임진강'],\n",
      "      dtype='object', length=276)\n"
     ]
    }
   ],
   "source": [
    "print(stn_nm19.index.unique())\n",
    "print(stn_nm20.index.unique())"
   ]
  },
  {
   "cell_type": "markdown",
   "metadata": {},
   "source": [
    "2019년 데이터에는 총 274개의 전철역이,   \n",
    "2020년 데이터에는 총 276개의 전철역이 있는 것을 알 수 있다."
   ]
  },
  {
   "cell_type": "code",
   "execution_count": 31,
   "metadata": {},
   "outputs": [
    {
     "name": "stdout",
     "output_type": "stream",
     "text": [
      "24\n"
     ]
    },
    {
     "data": {
      "text/plain": [
       "array(['00시', '05시', '06시', '07시', '08시', '09시', '10시', '11시', '12시',\n",
       "       '13시', '14시', '15시', '16시', '17시', '18시', '19시', '20시', '21시',\n",
       "       '22시', '23시', '04시', '01시', '02시', '03시'], dtype=object)"
      ]
     },
     "execution_count": 31,
     "metadata": {},
     "output_type": "execute_result"
    }
   ],
   "source": [
    "print(len(sub19['TMWD_DV'].unique()))\n",
    "sub19['TMWD_DV'].unique()"
   ]
  },
  {
   "cell_type": "markdown",
   "metadata": {},
   "source": [
    "24시간 계속 시간 단위로 데이터가 수집되고 있는 것을 알 수 있다."
   ]
  },
  {
   "cell_type": "code",
   "execution_count": 32,
   "metadata": {},
   "outputs": [
    {
     "name": "stdout",
     "output_type": "stream",
     "text": [
      "total 2019 :  3624\n",
      "total 2020 :  3648\n"
     ]
    }
   ],
   "source": [
    "print(\"total 2019 : \", 24 * 151)\n",
    "print(\"total 2020 : \", 24 * 152)"
   ]
  },
  {
   "cell_type": "markdown",
   "metadata": {},
   "source": [
    "모든날, 모든 시간대에서 데이터가 수집되었다면  \n",
    "2019년 기준 3624개가, 2020년 기준 3648개가 기록되어 있을 것이다."
   ]
  },
  {
   "cell_type": "code",
   "execution_count": 33,
   "metadata": {},
   "outputs": [
    {
     "data": {
      "text/plain": [
       "지평     1390\n",
       "옥수     2401\n",
       "달월     2677\n",
       "백양리    2863\n",
       "굴봉산    2874\n",
       "       ... \n",
       "부천     3282\n",
       "수원     3287\n",
       "안산     3291\n",
       "영등포    3291\n",
       "부평     3322\n",
       "Name: SBWY_STN_CD_NM, Length: 274, dtype: int64"
      ]
     },
     "execution_count": 33,
     "metadata": {},
     "output_type": "execute_result"
    }
   ],
   "source": [
    "stn_nm19.sort_values()"
   ]
  },
  {
   "cell_type": "code",
   "execution_count": 34,
   "metadata": {},
   "outputs": [
    {
     "data": {
      "text/plain": [
       "임진강      410\n",
       "부산원동    1305\n",
       "지평      1340\n",
       "옥수      2407\n",
       "달월      2603\n",
       "        ... \n",
       "부천      3280\n",
       "영등포     3294\n",
       "정자      3297\n",
       "안산      3303\n",
       "부평      3340\n",
       "Name: SBWY_STN_CD_NM, Length: 276, dtype: int64"
      ]
     },
     "execution_count": 34,
     "metadata": {},
     "output_type": "execute_result"
    }
   ],
   "source": [
    "stn_nm20.sort_values()"
   ]
  },
  {
   "cell_type": "markdown",
   "metadata": {},
   "source": [
    "수집 개수 순으로 정렬한 결과 두 데이터 모두 비슷하게 부천/수원/안산/부평/영등포가 상위에 있는 것을 알 수 있었다.   \n",
    "여전히 의문인건, 그러면 수집이 되지 않은 날짜나 시간은 정녕 아무도 오가지 않은 것인가."
   ]
  },
  {
   "cell_type": "markdown",
   "metadata": {},
   "source": [
    "### 4-3. 시간대구분 (TMWD_DV)"
   ]
  },
  {
   "cell_type": "markdown",
   "metadata": {},
   "source": [
    "어떤 시간대에서 가장 데이터가 많은지 봅시다."
   ]
  },
  {
   "cell_type": "code",
   "execution_count": 35,
   "metadata": {},
   "outputs": [
    {
     "data": {
      "text/plain": [
       "03시        1\n",
       "02시       29\n",
       "01시     9660\n",
       "04시    24356\n",
       "00시    40121\n",
       "       ...  \n",
       "07시    41352\n",
       "18시    41365\n",
       "10시    41367\n",
       "19시    41371\n",
       "16시    41374\n",
       "Name: TMWD_DV, Length: 24, dtype: int64"
      ]
     },
     "execution_count": 35,
     "metadata": {},
     "output_type": "execute_result"
    }
   ],
   "source": [
    "sub19['TMWD_DV'].value_counts().sort_values()"
   ]
  },
  {
   "cell_type": "code",
   "execution_count": 36,
   "metadata": {},
   "outputs": [
    {
     "data": {
      "text/plain": [
       "03시        3\n",
       "02시       70\n",
       "01시     5604\n",
       "04시    24845\n",
       "00시    40002\n",
       "       ...  \n",
       "07시    41682\n",
       "18시    41727\n",
       "19시    41755\n",
       "16시    41755\n",
       "10시    41759\n",
       "Name: TMWD_DV, Length: 24, dtype: int64"
      ]
     },
     "execution_count": 36,
     "metadata": {},
     "output_type": "execute_result"
    }
   ],
   "source": [
    "sub20['TMWD_DV'].value_counts().sort_values()"
   ]
  },
  {
   "cell_type": "markdown",
   "metadata": {},
   "source": [
    "두 데이터 다 새벽 이외에는 별 차이 없어보인다. 새벽 3시엔 1명 탄 경우도 있다. 와웅 ^^  \n",
    "그런데 ... 새벽 3시에... 지하철이 다니던가...?"
   ]
  },
  {
   "cell_type": "markdown",
   "metadata": {},
   "source": [
    "### [번외] 새벽 3시에 지하철을 운행하는 너.. 누구야!~"
   ]
  },
  {
   "cell_type": "code",
   "execution_count": 37,
   "metadata": {},
   "outputs": [
    {
     "data": {
      "text/html": [
       "<div>\n",
       "<style scoped>\n",
       "    .dataframe tbody tr th:only-of-type {\n",
       "        vertical-align: middle;\n",
       "    }\n",
       "\n",
       "    .dataframe tbody tr th {\n",
       "        vertical-align: top;\n",
       "    }\n",
       "\n",
       "    .dataframe thead th {\n",
       "        text-align: right;\n",
       "    }\n",
       "</style>\n",
       "<table border=\"1\" class=\"dataframe\">\n",
       "  <thead>\n",
       "    <tr style=\"text-align: right;\">\n",
       "      <th></th>\n",
       "      <th>RUN_DT</th>\n",
       "      <th>SBWY_STN_PRPR_NO</th>\n",
       "      <th>SBWY_STN_CD_NM</th>\n",
       "      <th>TMWD_DV</th>\n",
       "      <th>SBWY_ABRD_PRNB</th>\n",
       "      <th>SBWY_GOFF_PRNB</th>\n",
       "    </tr>\n",
       "  </thead>\n",
       "  <tbody>\n",
       "    <tr>\n",
       "      <th>476941</th>\n",
       "      <td>20190326</td>\n",
       "      <td>1019</td>\n",
       "      <td>광운대</td>\n",
       "      <td>03시</td>\n",
       "      <td>-</td>\n",
       "      <td>-</td>\n",
       "    </tr>\n",
       "  </tbody>\n",
       "</table>\n",
       "</div>"
      ],
      "text/plain": [
       "          RUN_DT  SBWY_STN_PRPR_NO SBWY_STN_CD_NM TMWD_DV SBWY_ABRD_PRNB  \\\n",
       "476941  20190326              1019            광운대     03시             -    \n",
       "\n",
       "       SBWY_GOFF_PRNB  \n",
       "476941             -   "
      ]
     },
     "execution_count": 37,
     "metadata": {},
     "output_type": "execute_result"
    }
   ],
   "source": [
    "sub19[sub19['TMWD_DV'] == '03시']\n",
    "#2019년 3월 26일.. 광운대역에서 ...하차 안했다. 둘다 결측값이다. 깜빡 속을뻔했다."
   ]
  },
  {
   "cell_type": "code",
   "execution_count": 38,
   "metadata": {},
   "outputs": [
    {
     "data": {
      "text/html": [
       "<div>\n",
       "<style scoped>\n",
       "    .dataframe tbody tr th:only-of-type {\n",
       "        vertical-align: middle;\n",
       "    }\n",
       "\n",
       "    .dataframe tbody tr th {\n",
       "        vertical-align: top;\n",
       "    }\n",
       "\n",
       "    .dataframe thead th {\n",
       "        text-align: right;\n",
       "    }\n",
       "</style>\n",
       "<table border=\"1\" class=\"dataframe\">\n",
       "  <thead>\n",
       "    <tr style=\"text-align: right;\">\n",
       "      <th></th>\n",
       "      <th>RUN_DT</th>\n",
       "      <th>SBWY_STN_PRPR_NO</th>\n",
       "      <th>SBWY_STN_CD_NM</th>\n",
       "      <th>TMWD_DV</th>\n",
       "      <th>SBWY_ABRD_PRNB</th>\n",
       "      <th>SBWY_GOFF_PRNB</th>\n",
       "    </tr>\n",
       "  </thead>\n",
       "  <tbody>\n",
       "    <tr>\n",
       "      <th>98477</th>\n",
       "      <td>20200118</td>\n",
       "      <td>1407</td>\n",
       "      <td>온양온천</td>\n",
       "      <td>03시</td>\n",
       "      <td>1</td>\n",
       "      <td>1</td>\n",
       "    </tr>\n",
       "    <tr>\n",
       "      <th>119426</th>\n",
       "      <td>20200122</td>\n",
       "      <td>1014</td>\n",
       "      <td>청량리</td>\n",
       "      <td>03시</td>\n",
       "      <td>1</td>\n",
       "      <td>-</td>\n",
       "    </tr>\n",
       "    <tr>\n",
       "      <th>513179</th>\n",
       "      <td>20200331</td>\n",
       "      <td>1725</td>\n",
       "      <td>성환</td>\n",
       "      <td>03시</td>\n",
       "      <td>-</td>\n",
       "      <td>1</td>\n",
       "    </tr>\n",
       "  </tbody>\n",
       "</table>\n",
       "</div>"
      ],
      "text/plain": [
       "          RUN_DT  SBWY_STN_PRPR_NO SBWY_STN_CD_NM TMWD_DV SBWY_ABRD_PRNB  \\\n",
       "98477   20200118              1407           온양온천     03시             1    \n",
       "119426  20200122              1014            청량리     03시             1    \n",
       "513179  20200331              1725             성환     03시             -    \n",
       "\n",
       "       SBWY_GOFF_PRNB  \n",
       "98477              1   \n",
       "119426             -   \n",
       "513179             1   "
      ]
     },
     "execution_count": 38,
     "metadata": {},
     "output_type": "execute_result"
    }
   ],
   "source": [
    "sub20[sub20['TMWD_DV'] == '03시']\n",
    "#2020년 데이터에서는 온양온천역/청량리역/성환역에서 승하차가 일어난 것을 볼 수 있다. 대체 뭐지?"
   ]
  },
  {
   "cell_type": "code",
   "execution_count": 39,
   "metadata": {},
   "outputs": [
    {
     "data": {
      "text/html": [
       "<div>\n",
       "<style scoped>\n",
       "    .dataframe tbody tr th:only-of-type {\n",
       "        vertical-align: middle;\n",
       "    }\n",
       "\n",
       "    .dataframe tbody tr th {\n",
       "        vertical-align: top;\n",
       "    }\n",
       "\n",
       "    .dataframe thead th {\n",
       "        text-align: right;\n",
       "    }\n",
       "</style>\n",
       "<table border=\"1\" class=\"dataframe\">\n",
       "  <thead>\n",
       "    <tr style=\"text-align: right;\">\n",
       "      <th></th>\n",
       "      <th>RUN_DT</th>\n",
       "      <th>SBWY_STN_PRPR_NO</th>\n",
       "      <th>SBWY_STN_CD_NM</th>\n",
       "      <th>TMWD_DV</th>\n",
       "      <th>SBWY_ABRD_PRNB</th>\n",
       "      <th>SBWY_GOFF_PRNB</th>\n",
       "    </tr>\n",
       "  </thead>\n",
       "  <tbody>\n",
       "    <tr>\n",
       "      <th>70279</th>\n",
       "      <td>20190113</td>\n",
       "      <td>1506</td>\n",
       "      <td>곤지암</td>\n",
       "      <td>02시</td>\n",
       "      <td>1</td>\n",
       "      <td>1</td>\n",
       "    </tr>\n",
       "    <tr>\n",
       "      <th>162991</th>\n",
       "      <td>20190129</td>\n",
       "      <td>1866</td>\n",
       "      <td>상갈</td>\n",
       "      <td>02시</td>\n",
       "      <td>-</td>\n",
       "      <td>-</td>\n",
       "    </tr>\n",
       "    <tr>\n",
       "      <th>198383</th>\n",
       "      <td>20190205</td>\n",
       "      <td>1001</td>\n",
       "      <td>서울</td>\n",
       "      <td>02시</td>\n",
       "      <td>-</td>\n",
       "      <td>-</td>\n",
       "    </tr>\n",
       "    <tr>\n",
       "      <th>198427</th>\n",
       "      <td>20190205</td>\n",
       "      <td>1003</td>\n",
       "      <td>용산</td>\n",
       "      <td>02시</td>\n",
       "      <td>-</td>\n",
       "      <td>-</td>\n",
       "    </tr>\n",
       "    <tr>\n",
       "      <th>198681</th>\n",
       "      <td>20190205</td>\n",
       "      <td>1015</td>\n",
       "      <td>회기</td>\n",
       "      <td>02시</td>\n",
       "      <td>-</td>\n",
       "      <td>-</td>\n",
       "    </tr>\n",
       "    <tr>\n",
       "      <th>...</th>\n",
       "      <td>...</td>\n",
       "      <td>...</td>\n",
       "      <td>...</td>\n",
       "      <td>...</td>\n",
       "      <td>...</td>\n",
       "      <td>...</td>\n",
       "    </tr>\n",
       "    <tr>\n",
       "      <th>207675</th>\n",
       "      <td>20190206</td>\n",
       "      <td>1809</td>\n",
       "      <td>주안</td>\n",
       "      <td>02시</td>\n",
       "      <td>-</td>\n",
       "      <td>-</td>\n",
       "    </tr>\n",
       "    <tr>\n",
       "      <th>208910</th>\n",
       "      <td>20190206</td>\n",
       "      <td>1907</td>\n",
       "      <td>가능</td>\n",
       "      <td>02시</td>\n",
       "      <td>-</td>\n",
       "      <td>-</td>\n",
       "    </tr>\n",
       "    <tr>\n",
       "      <th>267121</th>\n",
       "      <td>20190217</td>\n",
       "      <td>1030</td>\n",
       "      <td>수서</td>\n",
       "      <td>02시</td>\n",
       "      <td>1</td>\n",
       "      <td>-</td>\n",
       "    </tr>\n",
       "    <tr>\n",
       "      <th>457452</th>\n",
       "      <td>20190322</td>\n",
       "      <td>1808</td>\n",
       "      <td>동암</td>\n",
       "      <td>02시</td>\n",
       "      <td>-</td>\n",
       "      <td>-</td>\n",
       "    </tr>\n",
       "    <tr>\n",
       "      <th>651482</th>\n",
       "      <td>20190425</td>\n",
       "      <td>1871</td>\n",
       "      <td>수원시청</td>\n",
       "      <td>02시</td>\n",
       "      <td>1</td>\n",
       "      <td>-</td>\n",
       "    </tr>\n",
       "  </tbody>\n",
       "</table>\n",
       "<p>29 rows × 6 columns</p>\n",
       "</div>"
      ],
      "text/plain": [
       "          RUN_DT  SBWY_STN_PRPR_NO SBWY_STN_CD_NM TMWD_DV SBWY_ABRD_PRNB  \\\n",
       "70279   20190113              1506            곤지암     02시             1    \n",
       "162991  20190129              1866             상갈     02시             -    \n",
       "198383  20190205              1001             서울     02시             -    \n",
       "198427  20190205              1003             용산     02시             -    \n",
       "198681  20190205              1015             회기     02시             -    \n",
       "...          ...               ...            ...     ...            ...   \n",
       "207675  20190206              1809             주안     02시             -    \n",
       "208910  20190206              1907             가능     02시             -    \n",
       "267121  20190217              1030             수서     02시             1    \n",
       "457452  20190322              1808             동암     02시             -    \n",
       "651482  20190425              1871           수원시청     02시             1    \n",
       "\n",
       "       SBWY_GOFF_PRNB  \n",
       "70279              1   \n",
       "162991             -   \n",
       "198383             -   \n",
       "198427             -   \n",
       "198681             -   \n",
       "...               ...  \n",
       "207675             -   \n",
       "208910             -   \n",
       "267121             -   \n",
       "457452             -   \n",
       "651482             -   \n",
       "\n",
       "[29 rows x 6 columns]"
      ]
     },
     "execution_count": 39,
     "metadata": {},
     "output_type": "execute_result"
    }
   ],
   "source": [
    "sub19[sub19['TMWD_DV'] == '02시']"
   ]
  },
  {
   "cell_type": "code",
   "execution_count": 40,
   "metadata": {},
   "outputs": [
    {
     "data": {
      "text/html": [
       "<div>\n",
       "<style scoped>\n",
       "    .dataframe tbody tr th:only-of-type {\n",
       "        vertical-align: middle;\n",
       "    }\n",
       "\n",
       "    .dataframe tbody tr th {\n",
       "        vertical-align: top;\n",
       "    }\n",
       "\n",
       "    .dataframe thead th {\n",
       "        text-align: right;\n",
       "    }\n",
       "</style>\n",
       "<table border=\"1\" class=\"dataframe\">\n",
       "  <thead>\n",
       "    <tr style=\"text-align: right;\">\n",
       "      <th></th>\n",
       "      <th>RUN_DT</th>\n",
       "      <th>SBWY_STN_PRPR_NO</th>\n",
       "      <th>SBWY_STN_CD_NM</th>\n",
       "      <th>TMWD_DV</th>\n",
       "      <th>SBWY_ABRD_PRNB</th>\n",
       "      <th>SBWY_GOFF_PRNB</th>\n",
       "    </tr>\n",
       "  </thead>\n",
       "  <tbody>\n",
       "    <tr>\n",
       "      <th>12514</th>\n",
       "      <td>20200103</td>\n",
       "      <td>1269</td>\n",
       "      <td>강매</td>\n",
       "      <td>02시</td>\n",
       "      <td>-</td>\n",
       "      <td>-</td>\n",
       "    </tr>\n",
       "    <tr>\n",
       "      <th>29438</th>\n",
       "      <td>20200106</td>\n",
       "      <td>1269</td>\n",
       "      <td>강매</td>\n",
       "      <td>02시</td>\n",
       "      <td>-</td>\n",
       "      <td>-</td>\n",
       "    </tr>\n",
       "    <tr>\n",
       "      <th>52248</th>\n",
       "      <td>20200110</td>\n",
       "      <td>1269</td>\n",
       "      <td>강매</td>\n",
       "      <td>02시</td>\n",
       "      <td>-</td>\n",
       "      <td>-</td>\n",
       "    </tr>\n",
       "    <tr>\n",
       "      <th>69188</th>\n",
       "      <td>20200113</td>\n",
       "      <td>1269</td>\n",
       "      <td>강매</td>\n",
       "      <td>02시</td>\n",
       "      <td>-</td>\n",
       "      <td>-</td>\n",
       "    </tr>\n",
       "    <tr>\n",
       "      <th>74885</th>\n",
       "      <td>20200114</td>\n",
       "      <td>1269</td>\n",
       "      <td>강매</td>\n",
       "      <td>02시</td>\n",
       "      <td>-</td>\n",
       "      <td>-</td>\n",
       "    </tr>\n",
       "    <tr>\n",
       "      <th>...</th>\n",
       "      <td>...</td>\n",
       "      <td>...</td>\n",
       "      <td>...</td>\n",
       "      <td>...</td>\n",
       "      <td>...</td>\n",
       "      <td>...</td>\n",
       "    </tr>\n",
       "    <tr>\n",
       "      <th>641367</th>\n",
       "      <td>20200423</td>\n",
       "      <td>1269</td>\n",
       "      <td>강매</td>\n",
       "      <td>02시</td>\n",
       "      <td>-</td>\n",
       "      <td>-</td>\n",
       "    </tr>\n",
       "    <tr>\n",
       "      <th>663950</th>\n",
       "      <td>20200427</td>\n",
       "      <td>1269</td>\n",
       "      <td>강매</td>\n",
       "      <td>02시</td>\n",
       "      <td>-</td>\n",
       "      <td>-</td>\n",
       "    </tr>\n",
       "    <tr>\n",
       "      <th>697697</th>\n",
       "      <td>20200503</td>\n",
       "      <td>1261</td>\n",
       "      <td>효창공원앞</td>\n",
       "      <td>02시</td>\n",
       "      <td>-</td>\n",
       "      <td>-</td>\n",
       "    </tr>\n",
       "    <tr>\n",
       "      <th>782660</th>\n",
       "      <td>20200518</td>\n",
       "      <td>1269</td>\n",
       "      <td>강매</td>\n",
       "      <td>02시</td>\n",
       "      <td>-</td>\n",
       "      <td>-</td>\n",
       "    </tr>\n",
       "    <tr>\n",
       "      <th>793990</th>\n",
       "      <td>20200520</td>\n",
       "      <td>1269</td>\n",
       "      <td>강매</td>\n",
       "      <td>02시</td>\n",
       "      <td>-</td>\n",
       "      <td>-</td>\n",
       "    </tr>\n",
       "  </tbody>\n",
       "</table>\n",
       "<p>70 rows × 6 columns</p>\n",
       "</div>"
      ],
      "text/plain": [
       "          RUN_DT  SBWY_STN_PRPR_NO SBWY_STN_CD_NM TMWD_DV SBWY_ABRD_PRNB  \\\n",
       "12514   20200103              1269             강매     02시             -    \n",
       "29438   20200106              1269             강매     02시             -    \n",
       "52248   20200110              1269             강매     02시             -    \n",
       "69188   20200113              1269             강매     02시             -    \n",
       "74885   20200114              1269             강매     02시             -    \n",
       "...          ...               ...            ...     ...            ...   \n",
       "641367  20200423              1269             강매     02시             -    \n",
       "663950  20200427              1269             강매     02시             -    \n",
       "697697  20200503              1261          효창공원앞     02시             -    \n",
       "782660  20200518              1269             강매     02시             -    \n",
       "793990  20200520              1269             강매     02시             -    \n",
       "\n",
       "       SBWY_GOFF_PRNB  \n",
       "12514              -   \n",
       "29438              -   \n",
       "52248              -   \n",
       "69188              -   \n",
       "74885              -   \n",
       "...               ...  \n",
       "641367             -   \n",
       "663950             -   \n",
       "697697             -   \n",
       "782660             -   \n",
       "793990             -   \n",
       "\n",
       "[70 rows x 6 columns]"
      ]
     },
     "execution_count": 40,
     "metadata": {},
     "output_type": "execute_result"
    }
   ],
   "source": [
    "sub20[sub20['TMWD_DV'] == '02시']"
   ]
  },
  {
   "cell_type": "markdown",
   "metadata": {},
   "source": [
    "강매역이 유난히 결측치로 많이 수집이 된 것 같다.  \n",
    "속을 뻔 했다. 나중에 이런애들은 찬찬히 살펴볼 필요가 있는 것 같다.  \n",
    "ex) 설연휴 연장운행"
   ]
  },
  {
   "cell_type": "markdown",
   "metadata": {},
   "source": [
    "### 4-4. 승/하차 인원수 (ABRD_PRNB/GOFF_PRNB)"
   ]
  },
  {
   "cell_type": "code",
   "execution_count": 41,
   "metadata": {},
   "outputs": [
    {
     "data": {
      "text/html": [
       "<div>\n",
       "<style scoped>\n",
       "    .dataframe tbody tr th:only-of-type {\n",
       "        vertical-align: middle;\n",
       "    }\n",
       "\n",
       "    .dataframe tbody tr th {\n",
       "        vertical-align: top;\n",
       "    }\n",
       "\n",
       "    .dataframe thead th {\n",
       "        text-align: right;\n",
       "    }\n",
       "</style>\n",
       "<table border=\"1\" class=\"dataframe\">\n",
       "  <thead>\n",
       "    <tr style=\"text-align: right;\">\n",
       "      <th></th>\n",
       "      <th>RUN_DT</th>\n",
       "      <th>SBWY_STN_PRPR_NO</th>\n",
       "      <th>SBWY_STN_CD_NM</th>\n",
       "      <th>TMWD_DV</th>\n",
       "      <th>SBWY_ABRD_PRNB</th>\n",
       "      <th>SBWY_GOFF_PRNB</th>\n",
       "    </tr>\n",
       "  </thead>\n",
       "  <tbody>\n",
       "    <tr>\n",
       "      <th>0</th>\n",
       "      <td>20190101</td>\n",
       "      <td>1001</td>\n",
       "      <td>서울</td>\n",
       "      <td>00시</td>\n",
       "      <td>7</td>\n",
       "      <td>22</td>\n",
       "    </tr>\n",
       "    <tr>\n",
       "      <th>1</th>\n",
       "      <td>20190101</td>\n",
       "      <td>1001</td>\n",
       "      <td>서울</td>\n",
       "      <td>05시</td>\n",
       "      <td>10</td>\n",
       "      <td>1</td>\n",
       "    </tr>\n",
       "    <tr>\n",
       "      <th>2</th>\n",
       "      <td>20190101</td>\n",
       "      <td>1001</td>\n",
       "      <td>서울</td>\n",
       "      <td>06시</td>\n",
       "      <td>35</td>\n",
       "      <td>4</td>\n",
       "    </tr>\n",
       "    <tr>\n",
       "      <th>3</th>\n",
       "      <td>20190101</td>\n",
       "      <td>1001</td>\n",
       "      <td>서울</td>\n",
       "      <td>07시</td>\n",
       "      <td>31</td>\n",
       "      <td>39</td>\n",
       "    </tr>\n",
       "    <tr>\n",
       "      <th>4</th>\n",
       "      <td>20190101</td>\n",
       "      <td>1001</td>\n",
       "      <td>서울</td>\n",
       "      <td>08시</td>\n",
       "      <td>43</td>\n",
       "      <td>101</td>\n",
       "    </tr>\n",
       "    <tr>\n",
       "      <th>...</th>\n",
       "      <td>...</td>\n",
       "      <td>...</td>\n",
       "      <td>...</td>\n",
       "      <td>...</td>\n",
       "      <td>...</td>\n",
       "      <td>...</td>\n",
       "    </tr>\n",
       "    <tr>\n",
       "      <th>857871</th>\n",
       "      <td>20190531</td>\n",
       "      <td>8014</td>\n",
       "      <td>일광</td>\n",
       "      <td>19시</td>\n",
       "      <td>95</td>\n",
       "      <td>109</td>\n",
       "    </tr>\n",
       "    <tr>\n",
       "      <th>857872</th>\n",
       "      <td>20190531</td>\n",
       "      <td>8014</td>\n",
       "      <td>일광</td>\n",
       "      <td>20시</td>\n",
       "      <td>45</td>\n",
       "      <td>73</td>\n",
       "    </tr>\n",
       "    <tr>\n",
       "      <th>857873</th>\n",
       "      <td>20190531</td>\n",
       "      <td>8014</td>\n",
       "      <td>일광</td>\n",
       "      <td>21시</td>\n",
       "      <td>70</td>\n",
       "      <td>57</td>\n",
       "    </tr>\n",
       "    <tr>\n",
       "      <th>857874</th>\n",
       "      <td>20190531</td>\n",
       "      <td>8014</td>\n",
       "      <td>일광</td>\n",
       "      <td>22시</td>\n",
       "      <td>54</td>\n",
       "      <td>29</td>\n",
       "    </tr>\n",
       "    <tr>\n",
       "      <th>857875</th>\n",
       "      <td>20190531</td>\n",
       "      <td>8014</td>\n",
       "      <td>일광</td>\n",
       "      <td>23시</td>\n",
       "      <td>50</td>\n",
       "      <td>6</td>\n",
       "    </tr>\n",
       "  </tbody>\n",
       "</table>\n",
       "<p>857876 rows × 6 columns</p>\n",
       "</div>"
      ],
      "text/plain": [
       "          RUN_DT  SBWY_STN_PRPR_NO SBWY_STN_CD_NM TMWD_DV SBWY_ABRD_PRNB  \\\n",
       "0       20190101              1001             서울     00시             7    \n",
       "1       20190101              1001             서울     05시            10    \n",
       "2       20190101              1001             서울     06시            35    \n",
       "3       20190101              1001             서울     07시            31    \n",
       "4       20190101              1001             서울     08시            43    \n",
       "...          ...               ...            ...     ...            ...   \n",
       "857871  20190531              8014             일광     19시            95    \n",
       "857872  20190531              8014             일광     20시            45    \n",
       "857873  20190531              8014             일광     21시            70    \n",
       "857874  20190531              8014             일광     22시            54    \n",
       "857875  20190531              8014             일광     23시            50    \n",
       "\n",
       "       SBWY_GOFF_PRNB  \n",
       "0                 22   \n",
       "1                  1   \n",
       "2                  4   \n",
       "3                 39   \n",
       "4                101   \n",
       "...               ...  \n",
       "857871           109   \n",
       "857872            73   \n",
       "857873            57   \n",
       "857874            29   \n",
       "857875             6   \n",
       "\n",
       "[857876 rows x 6 columns]"
      ]
     },
     "execution_count": 41,
     "metadata": {},
     "output_type": "execute_result"
    }
   ],
   "source": [
    "sub19"
   ]
  },
  {
   "cell_type": "code",
   "execution_count": 42,
   "metadata": {},
   "outputs": [
    {
     "data": {
      "text/plain": [
       "Index(['RUN_DT', 'SBWY_STN_PRPR_NO', 'SBWY_STN_CD_NM', 'TMWD_DV',\n",
       "       'SBWY_ABRD_PRNB', 'SBWY_GOFF_PRNB'],\n",
       "      dtype='object')"
      ]
     },
     "execution_count": 42,
     "metadata": {},
     "output_type": "execute_result"
    }
   ],
   "source": [
    "sub19.columns"
   ]
  },
  {
   "cell_type": "code",
   "execution_count": 46,
   "metadata": {},
   "outputs": [
    {
     "data": {
      "text/plain": [
       "0          7\n",
       "1         10\n",
       "2         35\n",
       "3         31\n",
       "4         43\n",
       "          ..\n",
       "857871    95\n",
       "857872    45\n",
       "857873    70\n",
       "857874    54\n",
       "857875    50\n",
       "Name: SBWY_ABRD_PRNB, Length: 857876, dtype: Int64"
      ]
     },
     "execution_count": 46,
     "metadata": {},
     "output_type": "execute_result"
    }
   ],
   "source": [
    "sub19['SBWY_ABRD_PRNB']"
   ]
  },
  {
   "cell_type": "code",
   "execution_count": 47,
   "metadata": {},
   "outputs": [
    {
     "data": {
      "text/plain": [
       "0          4\n",
       "1         13\n",
       "2         59\n",
       "3         32\n",
       "4         61\n",
       "          ..\n",
       "860707    62\n",
       "860708    41\n",
       "860709    56\n",
       "860710    13\n",
       "860711    10\n",
       "Name: SBWY_ABRD_PRNB, Length: 860712, dtype: Int64"
      ]
     },
     "execution_count": 47,
     "metadata": {},
     "output_type": "execute_result"
    }
   ],
   "source": [
    "sub20['SBWY_ABRD_PRNB']"
   ]
  },
  {
   "cell_type": "code",
   "execution_count": 44,
   "metadata": {},
   "outputs": [
    {
     "name": "stdout",
     "output_type": "stream",
     "text": [
      "\n",
      "**2019년도 광역(지하철) 승차 데이터**\n",
      "' - ' count :  34319\n",
      "'0' count :  0\n",
      "after modification '0' count :  34319\n",
      "after modification 0 count :  0\n",
      "after modification 'nan' count :  34319\n",
      "count    823557.000000\n",
      "mean        393.157654\n",
      "std         587.902559\n",
      "min           1.000000\n",
      "25%          71.000000\n",
      "50%         192.000000\n",
      "75%         470.000000\n",
      "max        8662.000000\n",
      "Name: SBWY_ABRD_PRNB, dtype: float64\n",
      "\n",
      "**2019년도 광역(지하철) 하차 데이터**\n",
      "' - ' count :  23400\n",
      "'0' count :  0\n",
      "after modification '0' count :  23400\n",
      "after modification 0 count :  0\n",
      "after modification 'nan' count :  23400\n",
      "count    834476.000000\n",
      "mean        392.113350\n",
      "std         575.138181\n",
      "min           1.000000\n",
      "25%          65.000000\n",
      "50%         194.000000\n",
      "75%         481.000000\n",
      "max        9796.000000\n",
      "Name: SBWY_GOFF_PRNB, dtype: float64\n",
      "\n",
      "\n",
      "**2020년도 광역(지하철) 승차 데이터**\n",
      "' - ' count :  32038\n",
      "'0' count :  0\n",
      "after modification '0' count :  32038\n",
      "after modification 0 count :  0\n",
      "after modification 'nan' count :  32038\n",
      "count    828674.000000\n",
      "mean        285.815094\n",
      "std         451.606369\n",
      "min           1.000000\n",
      "25%          52.000000\n",
      "50%         137.000000\n",
      "75%         329.000000\n",
      "max        8607.000000\n",
      "Name: SBWY_ABRD_PRNB, dtype: float64\n",
      "\n",
      "**2020년도 광역(지하철) 하차 데이터**\n",
      "' - ' count :  22210\n",
      "'0' count :  0\n",
      "after modification '0' count :  22210\n",
      "after modification 0 count :  0\n",
      "after modification 'nan' count :  22210\n",
      "count    838502.000000\n",
      "mean        284.813711\n",
      "std         437.654822\n",
      "min           1.000000\n",
      "25%          48.000000\n",
      "50%         138.000000\n",
      "75%         336.000000\n",
      "max        8660.000000\n",
      "Name: SBWY_GOFF_PRNB, dtype: float64\n"
     ]
    }
   ],
   "source": [
    "print(\"\\n**2019년도 광역(지하철) 승차 데이터**\")\n",
    "sub19['SBWY_ABRD_PRNB'] = prnb_to_int(sub19['SBWY_ABRD_PRNB'])\n",
    "print(\"\\n**2019년도 광역(지하철) 하차 데이터**\")\n",
    "sub19['SBWY_GOFF_PRNB'] = prnb_to_int(sub19['SBWY_GOFF_PRNB'])\n",
    "\n",
    "print(\"\")\n",
    "\n",
    "print(\"\\n**2020년도 광역(지하철) 승차 데이터**\")\n",
    "sub20['SBWY_ABRD_PRNB'] = prnb_to_int(sub20['SBWY_ABRD_PRNB'])\n",
    "print(\"\\n**2020년도 광역(지하철) 하차 데이터**\")\n",
    "sub20['SBWY_GOFF_PRNB'] = prnb_to_int(sub20['SBWY_GOFF_PRNB'])"
   ]
  },
  {
   "cell_type": "markdown",
   "metadata": {},
   "source": [
    "비슷한 수치를 보인다. 이도 마찬가지로 각 데이터별 MAX값인 역을 찍어보았다."
   ]
  },
  {
   "cell_type": "code",
   "execution_count": 48,
   "metadata": {},
   "outputs": [
    {
     "data": {
      "text/html": [
       "<div>\n",
       "<style scoped>\n",
       "    .dataframe tbody tr th:only-of-type {\n",
       "        vertical-align: middle;\n",
       "    }\n",
       "\n",
       "    .dataframe tbody tr th {\n",
       "        vertical-align: top;\n",
       "    }\n",
       "\n",
       "    .dataframe thead th {\n",
       "        text-align: right;\n",
       "    }\n",
       "</style>\n",
       "<table border=\"1\" class=\"dataframe\">\n",
       "  <thead>\n",
       "    <tr style=\"text-align: right;\">\n",
       "      <th></th>\n",
       "      <th>RUN_DT</th>\n",
       "      <th>SBWY_STN_PRPR_NO</th>\n",
       "      <th>SBWY_STN_CD_NM</th>\n",
       "      <th>TMWD_DV</th>\n",
       "      <th>SBWY_ABRD_PRNB</th>\n",
       "      <th>SBWY_GOFF_PRNB</th>\n",
       "    </tr>\n",
       "  </thead>\n",
       "  <tbody>\n",
       "    <tr>\n",
       "      <th>791791</th>\n",
       "      <td>20190520</td>\n",
       "      <td>1702</td>\n",
       "      <td>가산디지털단지</td>\n",
       "      <td>08시</td>\n",
       "      <td>8662</td>\n",
       "      <td>633</td>\n",
       "    </tr>\n",
       "  </tbody>\n",
       "</table>\n",
       "</div>"
      ],
      "text/plain": [
       "          RUN_DT  SBWY_STN_PRPR_NO SBWY_STN_CD_NM TMWD_DV  SBWY_ABRD_PRNB  \\\n",
       "791791  20190520              1702        가산디지털단지     08시            8662   \n",
       "\n",
       "        SBWY_GOFF_PRNB  \n",
       "791791             633  "
      ]
     },
     "execution_count": 48,
     "metadata": {},
     "output_type": "execute_result"
    }
   ],
   "source": [
    "#2019년 지하철 승차데이터 MAX ==> 아침 8시 \"가산디지털단지\"\n",
    "sub19[sub19['SBWY_ABRD_PRNB'] == max(sub19[sub19['SBWY_ABRD_PRNB'] != np.nan]['SBWY_ABRD_PRNB'])]"
   ]
  },
  {
   "cell_type": "code",
   "execution_count": 49,
   "metadata": {},
   "outputs": [
    {
     "data": {
      "text/html": [
       "<div>\n",
       "<style scoped>\n",
       "    .dataframe tbody tr th:only-of-type {\n",
       "        vertical-align: middle;\n",
       "    }\n",
       "\n",
       "    .dataframe tbody tr th {\n",
       "        vertical-align: top;\n",
       "    }\n",
       "\n",
       "    .dataframe thead th {\n",
       "        text-align: right;\n",
       "    }\n",
       "</style>\n",
       "<table border=\"1\" class=\"dataframe\">\n",
       "  <thead>\n",
       "    <tr style=\"text-align: right;\">\n",
       "      <th></th>\n",
       "      <th>RUN_DT</th>\n",
       "      <th>SBWY_STN_PRPR_NO</th>\n",
       "      <th>SBWY_STN_CD_NM</th>\n",
       "      <th>TMWD_DV</th>\n",
       "      <th>SBWY_ABRD_PRNB</th>\n",
       "      <th>SBWY_GOFF_PRNB</th>\n",
       "    </tr>\n",
       "  </thead>\n",
       "  <tbody>\n",
       "    <tr>\n",
       "      <th>326930</th>\n",
       "      <td>20190227</td>\n",
       "      <td>1813</td>\n",
       "      <td>구일</td>\n",
       "      <td>22시</td>\n",
       "      <td>603</td>\n",
       "      <td>9796</td>\n",
       "    </tr>\n",
       "  </tbody>\n",
       "</table>\n",
       "</div>"
      ],
      "text/plain": [
       "          RUN_DT  SBWY_STN_PRPR_NO SBWY_STN_CD_NM TMWD_DV  SBWY_ABRD_PRNB  \\\n",
       "326930  20190227              1813             구일     22시             603   \n",
       "\n",
       "        SBWY_GOFF_PRNB  \n",
       "326930            9796  "
      ]
     },
     "execution_count": 49,
     "metadata": {},
     "output_type": "execute_result"
    }
   ],
   "source": [
    "#2019년 지하철 하차데이터 MAX ==> 밤 10시, \"구일역\"\n",
    "sub19[sub19['SBWY_GOFF_PRNB'] == max(sub19[sub19['SBWY_GOFF_PRNB'] != np.nan]['SBWY_GOFF_PRNB'])]"
   ]
  },
  {
   "cell_type": "code",
   "execution_count": 51,
   "metadata": {},
   "outputs": [
    {
     "data": {
      "text/html": [
       "<div>\n",
       "<style scoped>\n",
       "    .dataframe tbody tr th:only-of-type {\n",
       "        vertical-align: middle;\n",
       "    }\n",
       "\n",
       "    .dataframe tbody tr th {\n",
       "        vertical-align: top;\n",
       "    }\n",
       "\n",
       "    .dataframe thead th {\n",
       "        text-align: right;\n",
       "    }\n",
       "</style>\n",
       "<table border=\"1\" class=\"dataframe\">\n",
       "  <thead>\n",
       "    <tr style=\"text-align: right;\">\n",
       "      <th></th>\n",
       "      <th>RUN_DT</th>\n",
       "      <th>SBWY_STN_PRPR_NO</th>\n",
       "      <th>SBWY_STN_CD_NM</th>\n",
       "      <th>TMWD_DV</th>\n",
       "      <th>SBWY_ABRD_PRNB</th>\n",
       "      <th>SBWY_GOFF_PRNB</th>\n",
       "    </tr>\n",
       "  </thead>\n",
       "  <tbody>\n",
       "    <tr>\n",
       "      <th>30675</th>\n",
       "      <td>20200106</td>\n",
       "      <td>1702</td>\n",
       "      <td>가산디지털단지</td>\n",
       "      <td>08시</td>\n",
       "      <td>8607</td>\n",
       "      <td>592</td>\n",
       "    </tr>\n",
       "  </tbody>\n",
       "</table>\n",
       "</div>"
      ],
      "text/plain": [
       "         RUN_DT  SBWY_STN_PRPR_NO SBWY_STN_CD_NM TMWD_DV  SBWY_ABRD_PRNB  \\\n",
       "30675  20200106              1702        가산디지털단지     08시            8607   \n",
       "\n",
       "       SBWY_GOFF_PRNB  \n",
       "30675             592  "
      ]
     },
     "execution_count": 51,
     "metadata": {},
     "output_type": "execute_result"
    }
   ],
   "source": [
    "#2020년 지하철 승차데이터 MAX ==> 아침 8시, \"가산디지털단지\"\n",
    "sub20[sub20['SBWY_ABRD_PRNB'] == max(sub20[sub20['SBWY_ABRD_PRNB'] != np.nan]['SBWY_ABRD_PRNB'])]"
   ]
  },
  {
   "cell_type": "code",
   "execution_count": 53,
   "metadata": {},
   "outputs": [
    {
     "data": {
      "text/html": [
       "<div>\n",
       "<style scoped>\n",
       "    .dataframe tbody tr th:only-of-type {\n",
       "        vertical-align: middle;\n",
       "    }\n",
       "\n",
       "    .dataframe tbody tr th {\n",
       "        vertical-align: top;\n",
       "    }\n",
       "\n",
       "    .dataframe thead th {\n",
       "        text-align: right;\n",
       "    }\n",
       "</style>\n",
       "<table border=\"1\" class=\"dataframe\">\n",
       "  <thead>\n",
       "    <tr style=\"text-align: right;\">\n",
       "      <th></th>\n",
       "      <th>RUN_DT</th>\n",
       "      <th>SBWY_STN_PRPR_NO</th>\n",
       "      <th>SBWY_STN_CD_NM</th>\n",
       "      <th>TMWD_DV</th>\n",
       "      <th>SBWY_ABRD_PRNB</th>\n",
       "      <th>SBWY_GOFF_PRNB</th>\n",
       "    </tr>\n",
       "  </thead>\n",
       "  <tbody>\n",
       "    <tr>\n",
       "      <th>104160</th>\n",
       "      <td>20200119</td>\n",
       "      <td>1451</td>\n",
       "      <td>경마공원</td>\n",
       "      <td>18시</td>\n",
       "      <td>58</td>\n",
       "      <td>8660</td>\n",
       "    </tr>\n",
       "  </tbody>\n",
       "</table>\n",
       "</div>"
      ],
      "text/plain": [
       "          RUN_DT  SBWY_STN_PRPR_NO SBWY_STN_CD_NM TMWD_DV  SBWY_ABRD_PRNB  \\\n",
       "104160  20200119              1451           경마공원     18시              58   \n",
       "\n",
       "        SBWY_GOFF_PRNB  \n",
       "104160            8660  "
      ]
     },
     "execution_count": 53,
     "metadata": {},
     "output_type": "execute_result"
    }
   ],
   "source": [
    "#2020년 지하철 하차데이터 MAX ==> 저녁 6시, \"경마공원\"\n",
    "sub20[sub20['SBWY_GOFF_PRNB'] == max(sub20[sub20['SBWY_GOFF_PRNB'] != np.nan]['SBWY_GOFF_PRNB'])]"
   ]
  },
  {
   "cell_type": "markdown",
   "metadata": {},
   "source": [
    "---------"
   ]
  },
  {
   "cell_type": "markdown",
   "metadata": {},
   "source": [
    "## DATA SET SUMMARY"
   ]
  },
  {
   "cell_type": "markdown",
   "metadata": {},
   "source": [
    "1. 수집기간 : 2019년 1월 1일 ~ 2019년 5월 ~ 31일 / 2020년 1월 1일 ~ 2020년 5월 31일\n",
    "2. 데이터 분류 : 여객(기차), 광역(지하철)\n",
    "3. 데이터 변수 : 운행날짜, 역코드, 역이름, 승차인원, 하차인원 (지하철의 경우 시간대변수도 있음)\n",
    "  \n",
    "  \n",
    "  \n",
    "---"
   ]
  },
  {
   "cell_type": "markdown",
   "metadata": {},
   "source": [
    "<h1> 5. 데이터셋 활용방안 </h1>\n",
    "\n",
    "<h3> 1. 승하차 인원수로 히트맵 만들기! </h3>\n",
    "\n",
    "<b> 지하철역 경위도 좌표를 수집하자! </b>\n",
    "    \n",
    "1-1. 여객(기차)\n",
    "- 날짜별 승하차 인원수 기준 히트맵 생성.\n",
    "        \n",
    "1-2. 광역(지하철)\n",
    "- 시간대별 승차/하차 인원수를 기준으로 히트맵 생성 (시간대 분리 예시 : 아침(출근길) / 점심 / 저녁(퇴근길) / 밤\n",
    "     \n",
    "    \n",
    " <h4><b>--> 기본적으로 사람이 많은, 특정 시간대에 몰리는 역의 경우 배차를 늘림으로써 사람을 분산, 더 안전하게 이동 가능</b></h4>\n",
    "    \n",
    "<br>\n",
    "    \n",
    "\n",
    "<h3>2. 나눈 시간대에 맞춰서 각 시간대별 승/하차 인원 TOP10 추출 </h3>\n",
    "\n",
    "- 출근길/퇴근길/나른한오후/핫한새벽 별로 승하차인원이 많은 역이 모두 다 다를 것이다. \n",
    "\n",
    "- 그 역들의 특징을 알아보고, 시간대에 맞춰서 승하차인원을 조절해보자. (사실 위와 다를 건 크게 없다...ㅎ)\n",
    " \n",
    "<br>\n",
    "\n",
    "<h3>3. 워낙 쓸만한 변수 자체도 시간대/승하차인원 정도 밖에 없어서 할 수 있는건 이 정도가 아닐까!</h3>\n",
    "\n",
    "<br><hr>"
   ]
  },
  {
   "cell_type": "markdown",
   "metadata": {},
   "source": [
    "<h2> 6. 관련 외부 데이터 수집 </h2>\n",
    "\n",
    "<h3> 1. [공공데이터포털] 코레일 지하철 주소 데이터 </h3>\n",
    "    <ul>\n",
    "        <li> 276개로, 코레일 소속 지하철 모든 지하철을 담고 있다고 볼 수 있다! </li>\n",
    "        <li> 여기에 있는 도로명 주소를 이용해 x,y 좌표를 얻을 수 있다. </li>\n",
    "    </ul> \n",
    "\n",
    "<h3> 2. [서울열린데이터광장] 서울시 지하철 호선별 역별 시간대별 승하차 인원 정보 </h3>\n",
    "    <ul>\n",
    "        <li> 호선별, 역별, 시간대별로 승하차인원 정보를 기록한 데이터로 추가자료로 이용할 수 있을 것 같다. </li>\n",
    "    </ul>"
   ]
  },
  {
   "cell_type": "markdown",
   "metadata": {},
   "source": [
    "### 6-1. 좌표 변환\n",
    "[여기](http://blog.daum.net/geoscience/1436) 을 참고했다."
   ]
  },
  {
   "cell_type": "code",
   "execution_count": null,
   "metadata": {},
   "outputs": [],
   "source": [
    "import requests; from urllib.parse import urlparse\n",
    "import pandas as pd\n",
    "import geopandas"
   ]
  },
  {
   "cell_type": "code",
   "execution_count": null,
   "metadata": {},
   "outputs": [],
   "source": [
    "# 카카오맵 주소 검색 API: https://developers.kakao.com/docs/restapi/local#주소-검색\n",
    "address = \"강원 원주시 단구로 171\"\n",
    "url = \"https://dapi.kakao.com/v2/local/search/address.json?&query=\" + address\n",
    "result = requests.get(urlparse(url).geturl(),\n",
    "                      headers={\"Authorization\":\"KakaoAK 4d25f7ae6c4cab6bc96c746280e403af\"})\n",
    "json_obj = result.json()\n",
    "print(json_obj)"
   ]
  },
  {
   "cell_type": "code",
   "execution_count": null,
   "metadata": {},
   "outputs": [],
   "source": [
    "# 검색 결과 정렬\n",
    "list = []\n",
    "for document in json_obj['documents']:\n",
    "    val = [document['road_address']['building_name'], document['address_name'], document['y'], document['x']]\n",
    "    list.append(val)\n",
    "    \n",
    "df = pd.DataFrame(list, columns = ['building_name', 'address_name', 'lat', 'lon'])\n",
    "df"
   ]
  },
  {
   "cell_type": "code",
   "execution_count": 61,
   "metadata": {},
   "outputs": [],
   "source": [
    "ko_sub = pd.read_csv(\"추가데이터/공공데이터포털/한국철도시설공단_코레일_지하철_주소데이터_20191121..csv\", encoding='cp949')"
   ]
  },
  {
   "cell_type": "code",
   "execution_count": 62,
   "metadata": {},
   "outputs": [
    {
     "data": {
      "text/html": [
       "<div>\n",
       "<style scoped>\n",
       "    .dataframe tbody tr th:only-of-type {\n",
       "        vertical-align: middle;\n",
       "    }\n",
       "\n",
       "    .dataframe tbody tr th {\n",
       "        vertical-align: top;\n",
       "    }\n",
       "\n",
       "    .dataframe thead th {\n",
       "        text-align: right;\n",
       "    }\n",
       "</style>\n",
       "<table border=\"1\" class=\"dataframe\">\n",
       "  <thead>\n",
       "    <tr style=\"text-align: right;\">\n",
       "      <th></th>\n",
       "      <th>철도운영기관명</th>\n",
       "      <th>선명</th>\n",
       "      <th>역명</th>\n",
       "      <th>지번주소</th>\n",
       "      <th>도로명주소</th>\n",
       "    </tr>\n",
       "  </thead>\n",
       "  <tbody>\n",
       "    <tr>\n",
       "      <th>0</th>\n",
       "      <td>코레일</td>\n",
       "      <td>1호선</td>\n",
       "      <td>가능</td>\n",
       "      <td>경기도 의정부시 가능동 197-1</td>\n",
       "      <td>경기도 의정부시 평화로 633</td>\n",
       "    </tr>\n",
       "    <tr>\n",
       "      <th>1</th>\n",
       "      <td>코레일</td>\n",
       "      <td>1호선</td>\n",
       "      <td>가산디지털단지</td>\n",
       "      <td>서울특별시 금천구 가산동 468-4</td>\n",
       "      <td>서울특별시 금천구 벚꽃로 309</td>\n",
       "    </tr>\n",
       "    <tr>\n",
       "      <th>2</th>\n",
       "      <td>코레일</td>\n",
       "      <td>1호선</td>\n",
       "      <td>간석</td>\n",
       "      <td>인천광역시 남동구 간석동 757</td>\n",
       "      <td>인천광역시 남동구 석정로 522-14</td>\n",
       "    </tr>\n",
       "    <tr>\n",
       "      <th>3</th>\n",
       "      <td>코레일</td>\n",
       "      <td>1호선</td>\n",
       "      <td>개봉</td>\n",
       "      <td>서울특별시 구로구 개보동 415</td>\n",
       "      <td>서울특별시 구로구 경인로40길 47</td>\n",
       "    </tr>\n",
       "    <tr>\n",
       "      <th>4</th>\n",
       "      <td>코레일</td>\n",
       "      <td>1호선</td>\n",
       "      <td>관악</td>\n",
       "      <td>경기도 안양시 만악구 석수동 101-16</td>\n",
       "      <td>경기도 안양시 만안구 경수대로 1273번길 46</td>\n",
       "    </tr>\n",
       "    <tr>\n",
       "      <th>...</th>\n",
       "      <td>...</td>\n",
       "      <td>...</td>\n",
       "      <td>...</td>\n",
       "      <td>...</td>\n",
       "      <td>...</td>\n",
       "    </tr>\n",
       "    <tr>\n",
       "      <th>270</th>\n",
       "      <td>코레일</td>\n",
       "      <td>수인</td>\n",
       "      <td>월곶</td>\n",
       "      <td>경기도 시흥시 월곶동 992-8</td>\n",
       "      <td>경기도 시흥시 월곶중앙로 14번길 56</td>\n",
       "    </tr>\n",
       "    <tr>\n",
       "      <th>271</th>\n",
       "      <td>코레일</td>\n",
       "      <td>수인</td>\n",
       "      <td>인천</td>\n",
       "      <td>NaN</td>\n",
       "      <td>인천 중구 차이나타운로26번길 12-17</td>\n",
       "    </tr>\n",
       "    <tr>\n",
       "      <th>272</th>\n",
       "      <td>코레일</td>\n",
       "      <td>수인</td>\n",
       "      <td>인천논현</td>\n",
       "      <td>인천광역시 남동구 논현동 731-4</td>\n",
       "      <td>인천광역시 남동구 청능대로 567</td>\n",
       "    </tr>\n",
       "    <tr>\n",
       "      <th>273</th>\n",
       "      <td>코레일</td>\n",
       "      <td>수인</td>\n",
       "      <td>인하대</td>\n",
       "      <td>NaN</td>\n",
       "      <td>인천 남구 독배로 315</td>\n",
       "    </tr>\n",
       "    <tr>\n",
       "      <th>274</th>\n",
       "      <td>코레일</td>\n",
       "      <td>수인</td>\n",
       "      <td>호구포</td>\n",
       "      <td>인천광역시 남동구 논현동 731-1</td>\n",
       "      <td>인천광역시 남동구 호구포로 205</td>\n",
       "    </tr>\n",
       "  </tbody>\n",
       "</table>\n",
       "<p>275 rows × 5 columns</p>\n",
       "</div>"
      ],
      "text/plain": [
       "    철도운영기관명   선명       역명                    지번주소                       도로명주소\n",
       "0       코레일  1호선       가능      경기도 의정부시 가능동 197-1            경기도 의정부시 평화로 633\n",
       "1       코레일  1호선  가산디지털단지     서울특별시 금천구 가산동 468-4           서울특별시 금천구 벚꽃로 309\n",
       "2       코레일  1호선       간석       인천광역시 남동구 간석동 757        인천광역시 남동구 석정로 522-14\n",
       "3       코레일  1호선       개봉       서울특별시 구로구 개보동 415         서울특별시 구로구 경인로40길 47\n",
       "4       코레일  1호선       관악  경기도 안양시 만악구 석수동 101-16  경기도 안양시 만안구 경수대로 1273번길 46\n",
       "..      ...  ...      ...                     ...                         ...\n",
       "270     코레일   수인       월곶       경기도 시흥시 월곶동 992-8       경기도 시흥시 월곶중앙로 14번길 56\n",
       "271     코레일   수인       인천                     NaN      인천 중구 차이나타운로26번길 12-17\n",
       "272     코레일   수인     인천논현     인천광역시 남동구 논현동 731-4          인천광역시 남동구 청능대로 567\n",
       "273     코레일   수인      인하대                     NaN               인천 남구 독배로 315\n",
       "274     코레일   수인      호구포     인천광역시 남동구 논현동 731-1          인천광역시 남동구 호구포로 205\n",
       "\n",
       "[275 rows x 5 columns]"
      ]
     },
     "execution_count": 62,
     "metadata": {},
     "output_type": "execute_result"
    }
   ],
   "source": [
    "ko_sub"
   ]
  },
  {
   "cell_type": "code",
   "execution_count": 63,
   "metadata": {},
   "outputs": [],
   "source": [
    "# 주소 검색 함수 정의\n",
    "def address_to_latlon(address):\n",
    "    url = \"https://dapi.kakao.com/v2/local/search/address.json?&query=\" + address\n",
    "    result = requests.get(urlparse(url).geturl(),\n",
    "                          headers={\"Authorization\":\"KakaoAK 4d25f7ae6c4cab6bc96c746280e403af\"})\n",
    "    json_obj = result.json()\n",
    "    for document in json_obj['documents']:\n",
    "        val = [document['road_address']['building_name'], document['address_name'], document['y'], document['x']]\n",
    "    return val"
   ]
  },
  {
   "cell_type": "code",
   "execution_count": null,
   "metadata": {},
   "outputs": [],
   "source": [
    "list = []\n",
    "for address in ko_sub['도로명주소']:\n",
    "    list.append(address_to_latlon(address))\n",
    "    \n",
    "df1 = pd.DataFrame(list, columns = ['building_name', 'address_name', 'lat', 'lon'])\n",
    "df1.head()"
   ]
  },
  {
   "cell_type": "markdown",
   "metadata": {},
   "source": [
    "## 6-2. Folium 시각화"
   ]
  },
  {
   "cell_type": "code",
   "execution_count": null,
   "metadata": {},
   "outputs": [],
   "source": []
  },
  {
   "cell_type": "markdown",
   "metadata": {},
   "source": [
    "## 7. 시간대별 나눠서 승/하차 TOP10 뽑아보기"
   ]
  },
  {
   "cell_type": "code",
   "execution_count": null,
   "metadata": {},
   "outputs": [],
   "source": []
  }
 ],
 "metadata": {
  "kernelspec": {
   "display_name": "Python 3",
   "language": "python",
   "name": "python3"
  },
  "language_info": {
   "codemirror_mode": {
    "name": "ipython",
    "version": 3
   },
   "file_extension": ".py",
   "mimetype": "text/x-python",
   "name": "python",
   "nbconvert_exporter": "python",
   "pygments_lexer": "ipython3",
   "version": "3.8.3"
  }
 },
 "nbformat": 4,
 "nbformat_minor": 4
}
