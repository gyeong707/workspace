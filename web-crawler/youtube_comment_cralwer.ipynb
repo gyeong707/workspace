{
 "cells": [
  {
   "cell_type": "markdown",
   "metadata": {},
   "source": [
    "# << YouTube comment cralwer >>"
   ]
  },
  {
   "cell_type": "markdown",
   "metadata": {},
   "source": [
    "## Step1. 크롤러 만들기 "
   ]
  },
  {
   "cell_type": "markdown",
   "metadata": {},
   "source": [
    "크롤러는 [이곳](https://somjang.tistory.com/45)을 보고 만들었습니다. 아주 좋은 게시글입니다."
   ]
  },
  {
   "cell_type": "markdown",
   "metadata": {},
   "source": [
    "## 1. Import pakages"
   ]
  },
  {
   "cell_type": "code",
   "execution_count": 1,
   "metadata": {},
   "outputs": [],
   "source": [
    "from selenium import webdriver as wd\n",
    "from selenium.webdriver.support.ui import WebDriverWait\n",
    "from selenium.webdriver.support import expected_conditions as EC\n",
    "from selenium.webdriver.common.by import By\n",
    "from selenium.webdriver.common.keys import Keys\n",
    "\n",
    "from bs4 import BeautifulSoup\n",
    "import time\n",
    "import pandas as pd"
   ]
  },
  {
   "cell_type": "markdown",
   "metadata": {},
   "source": [
    "## 2. Define cralwer"
   ]
  },
  {
   "cell_type": "code",
   "execution_count": 2,
   "metadata": {},
   "outputs": [],
   "source": [
    "#url을 전달하면 해당 페이지에서 댓글을 크롤링해 soup에 받은 후 리턴하는 함수\n",
    "def comment_crawling(url): \n",
    "    chrome_driver = 'C:\\selenium\\chromedriver' #크롬 드라이버가 설치되어 있는 경로 입력\n",
    "    driver = wd.Chrome(chrome_driver) #driver에 크롬 드라이버 저장\n",
    "\n",
    "    url = url #함수의 파라미터로 입력받은 url 전달\n",
    "    driver.get(url) #get형식으로 호출하기\n",
    "\n",
    "    WebDriverWait(driver, 10).until(EC.presence_of_element_located((By.CSS_SELECTOR, 'yt-formatted-string#content-text')))\n",
    "    #가끔 로딩이 느린 경우가 있어서 댓글이 나올때까지 기다렸다가 크롤링을 수행하도록 설정\n",
    "    \n",
    "    last_page_height = driver.execute_script(\"return document.documentElement.scrollHeight\") \n",
    "\n",
    "    while True: \n",
    "        driver.execute_script(\"window.scrollTo(0, document.documentElement.scrollHeight);\") \n",
    "        #현재 페이지에 있는 댓글을 가져오고\n",
    "        time.sleep(3.3)\n",
    "        #3초마다 스크롤을 아래로 내린다\n",
    "        new_page_height = driver.execute_script(\"return document.documentElement.scrollHeight\")\n",
    "        #그리고 3초 뒤에 스크롤을 내렸을 때 또 있다면 그거 가져온다\n",
    "        \n",
    "        if new_page_height == last_page_height: #더 이상 스크롤 내릴 게 없다면\n",
    "            break #while문을 탈출\n",
    "            \n",
    "        last_page_height = new_page_height #더 내릴 수 있다면 페이지 height 업데이트\n",
    "\n",
    "\n",
    "    html_source = driver.page_source #최대한 아래로 내려갔다면 데이터를 받아옴.\n",
    "\n",
    "    driver.close() #창은 꺼주고\n",
    "\n",
    "    soup = BeautifulSoup(html_source, 'lxml') #파싱해준다!\n",
    "    \n",
    "    return soup #리턴~~~~~~~~!"
   ]
  },
  {
   "cell_type": "code",
   "execution_count": 3,
   "metadata": {},
   "outputs": [],
   "source": [
    "#soup을 받아 댓글에 대한 정보만 받아 전처리를 통해 저장 후 반환하는 함수\n",
    "def comment_parsing(soup):\n",
    "    youtube_comments = soup.select('yt-formatted-string#content-text') #댓글이 저장되어 있는 곳\n",
    "\n",
    "    str_youtube_comments = [] #최종적으로 정리할 리스트 선언\n",
    "\n",
    "    for i in range(len(youtube_comments)):\n",
    "        str_tmp = str(youtube_comments[i].text)\n",
    "\n",
    "        #전처리를 통해 의미없는 정보를 지워주고\n",
    "        str_tmp = str_tmp.replace('\\n', '')\n",
    "        str_tmp = str_tmp.replace('\\t', '')\n",
    "        str_tmp = str_tmp.replace('                ','')\n",
    "\n",
    "        str_youtube_comments.append(str_tmp) #지워준 거 최종 리스트에 넣음.\n",
    "        \n",
    "    return str_youtube_comments #정제한 데이터 리스트 반환"
   ]
  },
  {
   "cell_type": "code",
   "execution_count": 4,
   "metadata": {},
   "outputs": [],
   "source": [
    "#정제한 리스트를 pandas의 DataFrame 형태로 바꾸어주는 함수\n",
    "def to_dataframe(comment_list):\n",
    "    pd_data = {\"Comment\" : comment_list} #DataFrmae 형태로 반환받자\n",
    "    comment = pd.DataFrame(pd_data)\n",
    "    return comment"
   ]
  },
  {
   "cell_type": "code",
   "execution_count": 5,
   "metadata": {},
   "outputs": [],
   "source": [
    "#url 리스트를 넘겨 받으면 하나하나씩 언팩킹하여 위의 함수들을 차례대로 실행하는 함수 \n",
    "def lets_crawling(url_list):\n",
    "    comment_list = pd.DataFrame({'Comment' : []})\n",
    "\n",
    "    for i in range(len(url_list)):\n",
    "        comment = to_dataframe(comment_parsing(comment_crawling(url_list[i])))\n",
    "        comment_list = pd.concat([comment_list, comment], axis=0, ignore_index=True)\n",
    "\n",
    "    return comment_list"
   ]
  },
  {
   "cell_type": "markdown",
   "metadata": {},
   "source": [
    "## 3. Start crawling"
   ]
  },
  {
   "cell_type": "markdown",
   "metadata": {},
   "source": [
    "#### 제가 가장 많이 보는 롤 유투버인 호진이의 댓글과  \n",
    "#### 두 번째로 많이 보는 공포게임 유투버 수탉의 댓글을 수집해봅니다"
   ]
  },
  {
   "cell_type": "code",
   "execution_count": null,
   "metadata": {},
   "outputs": [],
   "source": [
    "hojin_url = ['https://www.youtube.com/watch?v=K1nOBTADTBI&t=193s',\n",
    "             'https://www.youtube.com/watch?v=yh0I8foe28Q']\n",
    "\n",
    "sutak_url = ['https://www.youtube.com/watch?v=zAJyQ3RKf5Q&list=PLT70pHaK4rK51HVvM0CqNIdtBO0BRsX8t',\n",
    "            'https://www.youtube.com/watch?v=8qEPM1PhXJ0&list=PLT70pHaK4rK51HVvM0CqNIdtBO0BRsX8t&index=2']\n",
    "\n",
    "hojins_comment = lets_crawling(hojin_url)\n",
    "sutaks_comment = lets_crawling(sutak_url)"
   ]
  },
  {
   "cell_type": "code",
   "execution_count": 68,
   "metadata": {},
   "outputs": [
    {
     "data": {
      "text/html": [
       "<div>\n",
       "<style scoped>\n",
       "    .dataframe tbody tr th:only-of-type {\n",
       "        vertical-align: middle;\n",
       "    }\n",
       "\n",
       "    .dataframe tbody tr th {\n",
       "        vertical-align: top;\n",
       "    }\n",
       "\n",
       "    .dataframe thead th {\n",
       "        text-align: right;\n",
       "    }\n",
       "</style>\n",
       "<table border=\"1\" class=\"dataframe\">\n",
       "  <thead>\n",
       "    <tr style=\"text-align: right;\">\n",
       "      <th></th>\n",
       "      <th>Comment</th>\n",
       "    </tr>\n",
       "  </thead>\n",
       "  <tbody>\n",
       "    <tr>\n",
       "      <th>0</th>\n",
       "      <td>구독, 좋아요 한 번씩 부탁드립니다!재밌는 영상 많이 올라갑니다!</td>\n",
       "    </tr>\n",
       "    <tr>\n",
       "      <th>1</th>\n",
       "      <td>진짜 선수들 멸망전 나오시는데 사람들이  못하니마니 욕안했으면좋겠다</td>\n",
       "    </tr>\n",
       "    <tr>\n",
       "      <th>2</th>\n",
       "      <td>프레이가 제대로 하면 진짜 다 개바를거같은데 라고 생각을 하다가 멸망전에서도 웃으면...</td>\n",
       "    </tr>\n",
       "    <tr>\n",
       "      <th>3</th>\n",
       "      <td>ㅈㄱ 클템에 서폿 메라면 롤드컵 준우승팀인데?ㅋㅋ</td>\n",
       "    </tr>\n",
       "    <tr>\n",
       "      <th>4</th>\n",
       "      <td>비시즌 됐는데 쿠로랑 고릴라도 모이자ㅋㅋㅋㅋ쿠 타이거즈 절대 다시해ㅠㅠ</td>\n",
       "    </tr>\n",
       "    <tr>\n",
       "      <th>...</th>\n",
       "      <td>...</td>\n",
       "    </tr>\n",
       "    <tr>\n",
       "      <th>600</th>\n",
       "      <td>원래 클템형은 쓰레기랑 tiger인뎈ㅋㅋㅋㄱㄱㄱㄱ</td>\n",
       "    </tr>\n",
       "    <tr>\n",
       "      <th>601</th>\n",
       "      <td>Motal?</td>\n",
       "    </tr>\n",
       "    <tr>\n",
       "      <th>602</th>\n",
       "      <td>LEGENO</td>\n",
       "    </tr>\n",
       "    <tr>\n",
       "      <th>603</th>\n",
       "      <td>1</td>\n",
       "    </tr>\n",
       "    <tr>\n",
       "      <th>604</th>\n",
       "      <td>정글 롤드컵우승정글러 엠빳다형대려와서 밥타이거즈도 재밋을꺼같은데</td>\n",
       "    </tr>\n",
       "  </tbody>\n",
       "</table>\n",
       "<p>605 rows × 1 columns</p>\n",
       "</div>"
      ],
      "text/plain": [
       "                                               Comment\n",
       "0                 구독, 좋아요 한 번씩 부탁드립니다!재밌는 영상 많이 올라갑니다!\n",
       "1                진짜 선수들 멸망전 나오시는데 사람들이  못하니마니 욕안했으면좋겠다\n",
       "2    프레이가 제대로 하면 진짜 다 개바를거같은데 라고 생각을 하다가 멸망전에서도 웃으면...\n",
       "3                          ㅈㄱ 클템에 서폿 메라면 롤드컵 준우승팀인데?ㅋㅋ\n",
       "4              비시즌 됐는데 쿠로랑 고릴라도 모이자ㅋㅋㅋㅋ쿠 타이거즈 절대 다시해ㅠㅠ\n",
       "..                                                 ...\n",
       "600                        원래 클템형은 쓰레기랑 tiger인뎈ㅋㅋㅋㄱㄱㄱㄱ\n",
       "601                                             Motal?\n",
       "602                                             LEGENO\n",
       "603                                                  1\n",
       "604                정글 롤드컵우승정글러 엠빳다형대려와서 밥타이거즈도 재밋을꺼같은데\n",
       "\n",
       "[605 rows x 1 columns]"
      ]
     },
     "execution_count": 68,
     "metadata": {},
     "output_type": "execute_result"
    }
   ],
   "source": [
    "hojins_comment #유투버 호진이의 두 개 영상 댓글"
   ]
  },
  {
   "cell_type": "code",
   "execution_count": 69,
   "metadata": {},
   "outputs": [
    {
     "data": {
      "text/html": [
       "<div>\n",
       "<style scoped>\n",
       "    .dataframe tbody tr th:only-of-type {\n",
       "        vertical-align: middle;\n",
       "    }\n",
       "\n",
       "    .dataframe tbody tr th {\n",
       "        vertical-align: top;\n",
       "    }\n",
       "\n",
       "    .dataframe thead th {\n",
       "        text-align: right;\n",
       "    }\n",
       "</style>\n",
       "<table border=\"1\" class=\"dataframe\">\n",
       "  <thead>\n",
       "    <tr style=\"text-align: right;\">\n",
       "      <th></th>\n",
       "      <th>Comment</th>\n",
       "    </tr>\n",
       "  </thead>\n",
       "  <tbody>\n",
       "    <tr>\n",
       "      <th>0</th>\n",
       "      <td>원래 방송에서 간간이 데바데를 했었는데, 유튜브에 올려달라고 하시는 분들이 많아서 ...</td>\n",
       "    </tr>\n",
       "    <tr>\n",
       "      <th>1</th>\n",
       "      <td>수탉님의 데바데는 레전드가 엄청많아서 이때까지 데바데가 유튜브에 기록되지않은게 너무...</td>\n",
       "    </tr>\n",
       "    <tr>\n",
       "      <th>2</th>\n",
       "      <td>와 편집 진짜.. 설명 너무 세세해서 저같은 데린이도 이해하기가 쉬웠어요 편집자님 ...</td>\n",
       "    </tr>\n",
       "    <tr>\n",
       "      <th>3</th>\n",
       "      <td>데바데는 무편집본으로 올려도 괜찮을 것 같아욤...!중간중간에 발전기 돌리면서 주위...</td>\n",
       "    </tr>\n",
       "    <tr>\n",
       "      <th>4</th>\n",
       "      <td>데바데가 올라오다니 좀 많이 놀랐당,,(ﾟ∀ﾟ);; 진짜 이러시면... 너무 좋네염ㅎㅎㅎ</td>\n",
       "    </tr>\n",
       "    <tr>\n",
       "      <th>...</th>\n",
       "      <td>...</td>\n",
       "    </tr>\n",
       "    <tr>\n",
       "      <th>830</th>\n",
       "      <td>ㅋ</td>\n",
       "    </tr>\n",
       "    <tr>\n",
       "      <th>831</th>\n",
       "      <td>★♥꾸어어억 벌써 구독자 30만명을 바라보시는군요 ㅎ  3ㅎ 축하 드립니다!! ㅎㅎ...</td>\n",
       "    </tr>\n",
       "    <tr>\n",
       "      <th>832</th>\n",
       "      <td>아니 블포작 하자고 공물 3갠데 그걸 즉처로 죽이고 다니니까 당연히 빡쳐서 랜뽑하짘...</td>\n",
       "    </tr>\n",
       "    <tr>\n",
       "      <th>833</th>\n",
       "      <td>Hacker</td>\n",
       "    </tr>\n",
       "    <tr>\n",
       "      <th>834</th>\n",
       "      <td>수탉님은 공포게임만 하세요...? 제가 아프고 난뒤로는 수탉님꺼를 못봐요 진짜 공포...</td>\n",
       "    </tr>\n",
       "  </tbody>\n",
       "</table>\n",
       "<p>835 rows × 1 columns</p>\n",
       "</div>"
      ],
      "text/plain": [
       "                                               Comment\n",
       "0    원래 방송에서 간간이 데바데를 했었는데, 유튜브에 올려달라고 하시는 분들이 많아서 ...\n",
       "1    수탉님의 데바데는 레전드가 엄청많아서 이때까지 데바데가 유튜브에 기록되지않은게 너무...\n",
       "2    와 편집 진짜.. 설명 너무 세세해서 저같은 데린이도 이해하기가 쉬웠어요 편집자님 ...\n",
       "3    데바데는 무편집본으로 올려도 괜찮을 것 같아욤...!중간중간에 발전기 돌리면서 주위...\n",
       "4    데바데가 올라오다니 좀 많이 놀랐당,,(ﾟ∀ﾟ);; 진짜 이러시면... 너무 좋네염ㅎㅎㅎ\n",
       "..                                                 ...\n",
       "830                                                  ㅋ\n",
       "831  ★♥꾸어어억 벌써 구독자 30만명을 바라보시는군요 ㅎ  3ㅎ 축하 드립니다!! ㅎㅎ...\n",
       "832  아니 블포작 하자고 공물 3갠데 그걸 즉처로 죽이고 다니니까 당연히 빡쳐서 랜뽑하짘...\n",
       "833                                             Hacker\n",
       "834  수탉님은 공포게임만 하세요...? 제가 아프고 난뒤로는 수탉님꺼를 못봐요 진짜 공포...\n",
       "\n",
       "[835 rows x 1 columns]"
      ]
     },
     "execution_count": 69,
     "metadata": {},
     "output_type": "execute_result"
    }
   ],
   "source": [
    "sutaks_comment #유투버 수탉의 두 개 영상 댓글"
   ]
  },
  {
   "cell_type": "markdown",
   "metadata": {},
   "source": [
    "-------------------------------------------------------"
   ]
  },
  {
   "cell_type": "markdown",
   "metadata": {},
   "source": [
    "## 4. Save crawling results "
   ]
  },
  {
   "cell_type": "code",
   "execution_count": null,
   "metadata": {},
   "outputs": [],
   "source": [
    "hojins_comment.to_csv(\"D:/anaconda/tobigs/assignment/week8/hojins_comment.csv\")\n",
    "sutaks_comment.to_csv(\"D:/anaconda/tobigs/assignment/week8/sutaks_comment.csv\")"
   ]
  },
  {
   "cell_type": "code",
   "execution_count": 9,
   "metadata": {},
   "outputs": [],
   "source": [
    "#불러오기\n",
    "hojins_comment = pd.read_csv(\"D:/anaconda/tobigs/assignment/week8/hojins_comment.csv\")\n",
    "sutaks_comment = pd.read_csv(\"D:/anaconda/tobigs/assignment/week8/sutaks_comment.csv\")"
   ]
  },
  {
   "cell_type": "code",
   "execution_count": 10,
   "metadata": {},
   "outputs": [
    {
     "name": "stdout",
     "output_type": "stream",
     "text": [
      "     Unnamed: 0                                            Comment\n",
      "0             0               구독, 좋아요 한 번씩 부탁드립니다!재밌는 영상 많이 올라갑니다!\n",
      "1             1              진짜 선수들 멸망전 나오시는데 사람들이  못하니마니 욕안했으면좋겠다\n",
      "2             2  프레이가 제대로 하면 진짜 다 개바를거같은데 라고 생각을 하다가 멸망전에서도 웃으면...\n",
      "3             3                        ㅈㄱ 클템에 서폿 메라면 롤드컵 준우승팀인데?ㅋㅋ\n",
      "4             4            비시즌 됐는데 쿠로랑 고릴라도 모이자ㅋㅋㅋㅋ쿠 타이거즈 절대 다시해ㅠㅠ\n",
      "..          ...                                                ...\n",
      "600         600                        원래 클템형은 쓰레기랑 tiger인뎈ㅋㅋㅋㄱㄱㄱㄱ\n",
      "601         601                                             Motal?\n",
      "602         602                                             LEGENO\n",
      "603         603                                                  1\n",
      "604         604                정글 롤드컵우승정글러 엠빳다형대려와서 밥타이거즈도 재밋을꺼같은데\n",
      "\n",
      "[605 rows x 2 columns]\n",
      "     Unnamed: 0                                            Comment\n",
      "0             0  원래 방송에서 간간이 데바데를 했었는데, 유튜브에 올려달라고 하시는 분들이 많아서 ...\n",
      "1             1  수탉님의 데바데는 레전드가 엄청많아서 이때까지 데바데가 유튜브에 기록되지않은게 너무...\n",
      "2             2  와 편집 진짜.. 설명 너무 세세해서 저같은 데린이도 이해하기가 쉬웠어요 편집자님 ...\n",
      "3             3  데바데는 무편집본으로 올려도 괜찮을 것 같아욤...!중간중간에 발전기 돌리면서 주위...\n",
      "4             4  데바데가 올라오다니 좀 많이 놀랐당,,(ﾟ∀ﾟ);; 진짜 이러시면... 너무 좋네염ㅎㅎㅎ\n",
      "..          ...                                                ...\n",
      "830         830                                                  ㅋ\n",
      "831         831  ★♥꾸어어억 벌써 구독자 30만명을 바라보시는군요 ㅎ  3ㅎ 축하 드립니다!! ㅎㅎ...\n",
      "832         832  아니 블포작 하자고 공물 3갠데 그걸 즉처로 죽이고 다니니까 당연히 빡쳐서 랜뽑하짘...\n",
      "833         833                                             Hacker\n",
      "834         834  수탉님은 공포게임만 하세요...? 제가 아프고 난뒤로는 수탉님꺼를 못봐요 진짜 공포...\n",
      "\n",
      "[835 rows x 2 columns]\n"
     ]
    }
   ],
   "source": [
    "#이제 이걸로 사용!\n",
    "print(hojins_comment)\n",
    "print(sutaks_comment)"
   ]
  },
  {
   "cell_type": "markdown",
   "metadata": {},
   "source": [
    "## 4. Preprocessing\n",
    "데이터 프레임의 데이터를 하나의 문자열에 담을 수 있도록 전처리 해줍니다"
   ]
  },
  {
   "cell_type": "code",
   "execution_count": 11,
   "metadata": {},
   "outputs": [
    {
     "name": "stdout",
     "output_type": "stream",
     "text": [
      "Hojin''s Comment :  604\n",
      "Sutak''s Comment :  834\n"
     ]
    }
   ],
   "source": [
    "hojin_list = list(hojins_comment.loc[1:, 'Comment'])  #첫 번째는 댓글이 아닌 영상 소개이므로 두 번째부터 불러옵니다\n",
    "sutak_list = list(sutaks_comment.loc[1:, 'Comment']) #데이터 프레임 형태로 저장되어 있는 것을 리스트로 반환받습니다\n",
    "print(\"Hojin''s Comment : \", len(hojin_list)) \n",
    "print(\"Sutak''s Comment : \", len(sutak_list)) "
   ]
  },
  {
   "cell_type": "code",
   "execution_count": 12,
   "metadata": {},
   "outputs": [
    {
     "name": "stdout",
     "output_type": "stream",
     "text": [
      "\n",
      " < Hojin's 검색어 예시 > \n",
      " 진짜 선수들 멸망전 나오시는데 사람들이  못하니마니 욕안했으면좋겠다\n",
      "프레이가 제대로 하면 진짜 다 개바를거같은데 라고 생각을 하다가 멸망전에서도 웃으면서 대벌레듀오짓을 하고 있는 \n",
      "\n",
      " < Sutak's 검색어 예시 > \n",
      " 수탉님의 데바데는 레전드가 엄청많아서 이때까지 데바데가 유튜브에 기록되지않은게 너무 아쉬웟는데, 병아리분들이 녹화하자구떼쓰고떼써서 드디어 유튜브에ㅠㅠ너무좋다ㅠ\n",
      "와 편집 진짜.. 설\n"
     ]
    }
   ],
   "source": [
    "hojin_str = '\\n'.join(hojin_list) #리스트를 리스트 요소마다 ' '로 연결하여 하나의 문자열로 만드는 작업입니다\n",
    "sutak_str = '\\n'.join(sutak_list) #Practical ML때 워드클라우드하다 썼던 코드를 그대로 쓸 수 있었네요 과제 열심히 한게 이렇게 도움이되는 날이 올 줄이야 ㅎ\n",
    "print(\"\\n < Hojin's 검색어 예시 > \\n\", hojin_str[:100])\n",
    "print(\"\\n < Sutak's 검색어 예시 > \\n\", sutak_str[:100])"
   ]
  },
  {
   "cell_type": "code",
   "execution_count": null,
   "metadata": {},
   "outputs": [],
   "source": []
  }
 ],
 "metadata": {
  "kernelspec": {
   "display_name": "Python 3",
   "language": "python",
   "name": "python3"
  },
  "language_info": {
   "codemirror_mode": {
    "name": "ipython",
    "version": 3
   },
   "file_extension": ".py",
   "mimetype": "text/x-python",
   "name": "python",
   "nbconvert_exporter": "python",
   "pygments_lexer": "ipython3",
   "version": "3.8.3"
  }
 },
 "nbformat": 4,
 "nbformat_minor": 4
}
